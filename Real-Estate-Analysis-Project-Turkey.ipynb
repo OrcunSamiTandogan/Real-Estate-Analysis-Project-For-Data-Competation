{
 "cells": [
  {
   "cell_type": "markdown",
   "metadata": {},
   "source": [
    "`Isim:` Orcun Sami \n",
    "\n",
    "`Soy Isim: `Tandogan\n",
    "\n",
    "`Numara: `2535037\n",
    "\n",
    "`Okul: `ODTU Biyoteknoloji"
   ]
  },
  {
   "cell_type": "markdown",
   "metadata": {},
   "source": [
    "### Modul Import"
   ]
  },
  {
   "cell_type": "code",
   "execution_count": 1,
   "metadata": {},
   "outputs": [],
   "source": [
    "import pandas as pd  \n",
    "import seaborn as sns \n",
    "import numpy as np\n",
    "import matplotlib.pyplot as plt\n",
    "from scipy import stats\n"
   ]
  },
  {
   "cell_type": "markdown",
   "metadata": {},
   "source": [
    "### Veri Seti Yukleme"
   ]
  },
  {
   "cell_type": "code",
   "execution_count": 2,
   "metadata": {},
   "outputs": [],
   "source": [
    "file = 'C:/Users/Asus/Desktop/Courses/Codes/External/dataset.csv'"
   ]
  },
  {
   "cell_type": "code",
   "execution_count": 3,
   "metadata": {},
   "outputs": [
    {
     "data": {
      "text/plain": [
       "{'encoding': 'ISO-8859-1', 'confidence': 0.6841642680232948, 'language': ''}"
      ]
     },
     "execution_count": 3,
     "metadata": {},
     "output_type": "execute_result"
    }
   ],
   "source": [
    "import chardet\n",
    "with open(file, 'rb') as rawdata:\n",
    "    result = chardet.detect(rawdata.read(100000)) \n",
    "result"
   ]
  },
  {
   "cell_type": "code",
   "execution_count": 4,
   "metadata": {},
   "outputs": [],
   "source": [
    "data = pd.read_csv(r'C:/Users/Asus/Desktop/Courses/Codes/External/dataset.csv',sep=';',encoding='ISO-8859-1') "
   ]
  },
  {
   "cell_type": "code",
   "execution_count": 5,
   "metadata": {},
   "outputs": [
    {
     "data": {
      "text/html": [
       "<div>\n",
       "<style scoped>\n",
       "    .dataframe tbody tr th:only-of-type {\n",
       "        vertical-align: middle;\n",
       "    }\n",
       "\n",
       "    .dataframe tbody tr th {\n",
       "        vertical-align: top;\n",
       "    }\n",
       "\n",
       "    .dataframe thead th {\n",
       "        text-align: right;\n",
       "    }\n",
       "</style>\n",
       "<table border=\"1\" class=\"dataframe\">\n",
       "  <thead>\n",
       "    <tr style=\"text-align: right;\">\n",
       "      <th></th>\n",
       "      <th>Sütun1</th>\n",
       "      <th>id</th>\n",
       "      <th>fiyat</th>\n",
       "      <th>oda_salon_sayisi</th>\n",
       "      <th>net_m2</th>\n",
       "      <th>bina_yasi</th>\n",
       "      <th>isinma_tipi</th>\n",
       "      <th>krediye_uygunluk</th>\n",
       "      <th>bulundugu_kat</th>\n",
       "      <th>banyo_sayisi</th>\n",
       "      <th>ilce</th>\n",
       "      <th>nüfus</th>\n",
       "      <th>eðitim</th>\n",
       "      <th>okuma_yazma_bilmeyen</th>\n",
       "    </tr>\n",
       "  </thead>\n",
       "  <tbody>\n",
       "    <tr>\n",
       "      <th>0</th>\n",
       "      <td>2612</td>\n",
       "      <td>2612.0</td>\n",
       "      <td>275000</td>\n",
       "      <td>4.0</td>\n",
       "      <td>120.0</td>\n",
       "      <td>12.0</td>\n",
       "      <td>Kombi</td>\n",
       "      <td>Uygun</td>\n",
       "      <td>Kot 1</td>\n",
       "      <td>1.0</td>\n",
       "      <td>Çankaya</td>\n",
       "      <td>925828.0</td>\n",
       "      <td>Lisans</td>\n",
       "      <td>0,7</td>\n",
       "    </tr>\n",
       "    <tr>\n",
       "      <th>1</th>\n",
       "      <td>4819</td>\n",
       "      <td>4819.0</td>\n",
       "      <td>700000</td>\n",
       "      <td>3.0</td>\n",
       "      <td>88.0</td>\n",
       "      <td>0.0</td>\n",
       "      <td>Merkezi(PayÖlçer)</td>\n",
       "      <td>Uygun</td>\n",
       "      <td>1. Kat</td>\n",
       "      <td>1.0</td>\n",
       "      <td>Çankaya</td>\n",
       "      <td>925828.0</td>\n",
       "      <td>Lisans</td>\n",
       "      <td>0,7</td>\n",
       "    </tr>\n",
       "    <tr>\n",
       "      <th>2</th>\n",
       "      <td>149</td>\n",
       "      <td>149.0</td>\n",
       "      <td>980000</td>\n",
       "      <td>5.0</td>\n",
       "      <td>230.0</td>\n",
       "      <td>30.0</td>\n",
       "      <td>Kombi</td>\n",
       "      <td>Uygun</td>\n",
       "      <td>3. Kat</td>\n",
       "      <td>2.0</td>\n",
       "      <td>Çankaya</td>\n",
       "      <td>925828.0</td>\n",
       "      <td>liSans</td>\n",
       "      <td>0,7</td>\n",
       "    </tr>\n",
       "    <tr>\n",
       "      <th>3</th>\n",
       "      <td>3628</td>\n",
       "      <td>3628.0</td>\n",
       "      <td>385000</td>\n",
       "      <td>4.0</td>\n",
       "      <td>120.0</td>\n",
       "      <td>22.0</td>\n",
       "      <td>Kombi</td>\n",
       "      <td>Uygun</td>\n",
       "      <td>2. Kat</td>\n",
       "      <td>1.0</td>\n",
       "      <td>Keçiören</td>\n",
       "      <td>938565.0</td>\n",
       "      <td>Lise</td>\n",
       "      <td>1,43</td>\n",
       "    </tr>\n",
       "    <tr>\n",
       "      <th>4</th>\n",
       "      <td>3936</td>\n",
       "      <td>3936.0</td>\n",
       "      <td>700000</td>\n",
       "      <td>5.0</td>\n",
       "      <td>150.0</td>\n",
       "      <td>0.0</td>\n",
       "      <td>Kombi</td>\n",
       "      <td>Uygun</td>\n",
       "      <td>Ara Kat</td>\n",
       "      <td>2.0</td>\n",
       "      <td>Çankaya</td>\n",
       "      <td>925828.0</td>\n",
       "      <td>Lisans</td>\n",
       "      <td>0,7</td>\n",
       "    </tr>\n",
       "  </tbody>\n",
       "</table>\n",
       "</div>"
      ],
      "text/plain": [
       "   Sütun1      id   fiyat  oda_salon_sayisi  net_m2  bina_yasi  \\\n",
       "0    2612  2612.0  275000               4.0   120.0       12.0   \n",
       "1    4819  4819.0  700000               3.0    88.0        0.0   \n",
       "2     149   149.0  980000               5.0   230.0       30.0   \n",
       "3    3628  3628.0  385000               4.0   120.0       22.0   \n",
       "4    3936  3936.0  700000               5.0   150.0        0.0   \n",
       "\n",
       "         isinma_tipi krediye_uygunluk bulundugu_kat  banyo_sayisi      ilce  \\\n",
       "0              Kombi            Uygun         Kot 1           1.0   Çankaya   \n",
       "1  Merkezi(PayÖlçer)            Uygun        1. Kat           1.0   Çankaya   \n",
       "2              Kombi            Uygun        3. Kat           2.0   Çankaya   \n",
       "3              Kombi            Uygun        2. Kat           1.0  Keçiören   \n",
       "4              Kombi            Uygun       Ara Kat           2.0   Çankaya   \n",
       "\n",
       "      nüfus  eðitim okuma_yazma_bilmeyen  \n",
       "0  925828.0  Lisans                  0,7  \n",
       "1  925828.0  Lisans                  0,7  \n",
       "2  925828.0  liSans                  0,7  \n",
       "3  938565.0    Lise                 1,43  \n",
       "4  925828.0  Lisans                  0,7  "
      ]
     },
     "execution_count": 5,
     "metadata": {},
     "output_type": "execute_result"
    }
   ],
   "source": [
    "data.head() "
   ]
  },
  {
   "cell_type": "code",
   "execution_count": 6,
   "metadata": {},
   "outputs": [
    {
     "name": "stdout",
     "output_type": "stream",
     "text": [
      "Number of Columns: 14 \n",
      "Number of Rows: 4222\n"
     ]
    },
    {
     "data": {
      "text/html": [
       "<div>\n",
       "<style scoped>\n",
       "    .dataframe tbody tr th:only-of-type {\n",
       "        vertical-align: middle;\n",
       "    }\n",
       "\n",
       "    .dataframe tbody tr th {\n",
       "        vertical-align: top;\n",
       "    }\n",
       "\n",
       "    .dataframe thead th {\n",
       "        text-align: right;\n",
       "    }\n",
       "</style>\n",
       "<table border=\"1\" class=\"dataframe\">\n",
       "  <thead>\n",
       "    <tr style=\"text-align: right;\">\n",
       "      <th></th>\n",
       "      <th>Sütun1</th>\n",
       "      <th>id</th>\n",
       "      <th>oda_salon_sayisi</th>\n",
       "      <th>net_m2</th>\n",
       "      <th>bina_yasi</th>\n",
       "      <th>banyo_sayisi</th>\n",
       "      <th>nüfus</th>\n",
       "    </tr>\n",
       "  </thead>\n",
       "  <tbody>\n",
       "    <tr>\n",
       "      <th>count</th>\n",
       "      <td>4222.000000</td>\n",
       "      <td>4220.000000</td>\n",
       "      <td>4213.000000</td>\n",
       "      <td>4213.000000</td>\n",
       "      <td>4216.000000</td>\n",
       "      <td>4214.000000</td>\n",
       "      <td>4214.000000</td>\n",
       "    </tr>\n",
       "    <tr>\n",
       "      <th>mean</th>\n",
       "      <td>2482.219090</td>\n",
       "      <td>2481.717536</td>\n",
       "      <td>4.327795</td>\n",
       "      <td>130.339900</td>\n",
       "      <td>16.164374</td>\n",
       "      <td>1.468913</td>\n",
       "      <td>873334.921690</td>\n",
       "    </tr>\n",
       "    <tr>\n",
       "      <th>std</th>\n",
       "      <td>1430.248129</td>\n",
       "      <td>1430.400437</td>\n",
       "      <td>3.989371</td>\n",
       "      <td>52.036707</td>\n",
       "      <td>12.133765</td>\n",
       "      <td>0.933262</td>\n",
       "      <td>137041.184327</td>\n",
       "    </tr>\n",
       "    <tr>\n",
       "      <th>min</th>\n",
       "      <td>1.000000</td>\n",
       "      <td>1.000000</td>\n",
       "      <td>1.000000</td>\n",
       "      <td>-98.000000</td>\n",
       "      <td>0.000000</td>\n",
       "      <td>1.000000</td>\n",
       "      <td>549108.000000</td>\n",
       "    </tr>\n",
       "    <tr>\n",
       "      <th>25%</th>\n",
       "      <td>1235.250000</td>\n",
       "      <td>1234.750000</td>\n",
       "      <td>4.000000</td>\n",
       "      <td>105.000000</td>\n",
       "      <td>4.000000</td>\n",
       "      <td>1.000000</td>\n",
       "      <td>925828.000000</td>\n",
       "    </tr>\n",
       "    <tr>\n",
       "      <th>50%</th>\n",
       "      <td>2493.500000</td>\n",
       "      <td>2492.500000</td>\n",
       "      <td>4.000000</td>\n",
       "      <td>120.000000</td>\n",
       "      <td>16.000000</td>\n",
       "      <td>1.000000</td>\n",
       "      <td>925828.000000</td>\n",
       "    </tr>\n",
       "    <tr>\n",
       "      <th>75%</th>\n",
       "      <td>3712.750000</td>\n",
       "      <td>3713.750000</td>\n",
       "      <td>4.000000</td>\n",
       "      <td>140.000000</td>\n",
       "      <td>25.000000</td>\n",
       "      <td>2.000000</td>\n",
       "      <td>938565.000000</td>\n",
       "    </tr>\n",
       "    <tr>\n",
       "      <th>max</th>\n",
       "      <td>4957.000000</td>\n",
       "      <td>4957.000000</td>\n",
       "      <td>153.000000</td>\n",
       "      <td>600.000000</td>\n",
       "      <td>55.000000</td>\n",
       "      <td>21.000000</td>\n",
       "      <td>938565.000000</td>\n",
       "    </tr>\n",
       "  </tbody>\n",
       "</table>\n",
       "</div>"
      ],
      "text/plain": [
       "            Sütun1           id  oda_salon_sayisi       net_m2    bina_yasi  \\\n",
       "count  4222.000000  4220.000000       4213.000000  4213.000000  4216.000000   \n",
       "mean   2482.219090  2481.717536          4.327795   130.339900    16.164374   \n",
       "std    1430.248129  1430.400437          3.989371    52.036707    12.133765   \n",
       "min       1.000000     1.000000          1.000000   -98.000000     0.000000   \n",
       "25%    1235.250000  1234.750000          4.000000   105.000000     4.000000   \n",
       "50%    2493.500000  2492.500000          4.000000   120.000000    16.000000   \n",
       "75%    3712.750000  3713.750000          4.000000   140.000000    25.000000   \n",
       "max    4957.000000  4957.000000        153.000000   600.000000    55.000000   \n",
       "\n",
       "       banyo_sayisi          nüfus  \n",
       "count   4214.000000    4214.000000  \n",
       "mean       1.468913  873334.921690  \n",
       "std        0.933262  137041.184327  \n",
       "min        1.000000  549108.000000  \n",
       "25%        1.000000  925828.000000  \n",
       "50%        1.000000  925828.000000  \n",
       "75%        2.000000  938565.000000  \n",
       "max       21.000000  938565.000000  "
      ]
     },
     "execution_count": 6,
     "metadata": {},
     "output_type": "execute_result"
    }
   ],
   "source": [
    "print( 'Number of Columns:', len( data.columns),'\\nNumber of Rows:',len(data['id']) ) \n",
    "data.describe() "
   ]
  },
  {
   "cell_type": "code",
   "execution_count": 7,
   "metadata": {},
   "outputs": [],
   "source": [
    "colnames = 'S?tun1\tid\tfiyat\toda_salon_sayisi\tnet_m2\tbina_yasi\tisinma_tipi\tkrediye_uygunluk\tbulundugu_kat\tbanyo_sayisi\tilce\tn?fus\te?itim\tokuma_yazma_bilmeyen'.split() \n",
    "coln =[1,2,3] \n",
    "coln[0] = 'Sutun1'\n",
    "coln[1] = 'Nufus' \n",
    "coln[2] = 'Egitim' \n",
    "data = data.rename({colnames[0]: coln[0], colnames[-3]: coln[1], colnames[-2]:coln[2]}, axis='columns')  \n"
   ]
  },
  {
   "cell_type": "code",
   "execution_count": 8,
   "metadata": {},
   "outputs": [
    {
     "data": {
      "text/html": [
       "<div>\n",
       "<style scoped>\n",
       "    .dataframe tbody tr th:only-of-type {\n",
       "        vertical-align: middle;\n",
       "    }\n",
       "\n",
       "    .dataframe tbody tr th {\n",
       "        vertical-align: top;\n",
       "    }\n",
       "\n",
       "    .dataframe thead th {\n",
       "        text-align: right;\n",
       "    }\n",
       "</style>\n",
       "<table border=\"1\" class=\"dataframe\">\n",
       "  <thead>\n",
       "    <tr style=\"text-align: right;\">\n",
       "      <th></th>\n",
       "      <th>Sütun1</th>\n",
       "      <th>id</th>\n",
       "      <th>fiyat</th>\n",
       "      <th>oda_salon_sayisi</th>\n",
       "      <th>net_m2</th>\n",
       "      <th>bina_yasi</th>\n",
       "      <th>isinma_tipi</th>\n",
       "      <th>krediye_uygunluk</th>\n",
       "      <th>bulundugu_kat</th>\n",
       "      <th>banyo_sayisi</th>\n",
       "      <th>ilce</th>\n",
       "      <th>nüfus</th>\n",
       "      <th>eðitim</th>\n",
       "      <th>okuma_yazma_bilmeyen</th>\n",
       "    </tr>\n",
       "  </thead>\n",
       "  <tbody>\n",
       "    <tr>\n",
       "      <th>0</th>\n",
       "      <td>2612</td>\n",
       "      <td>2612.0</td>\n",
       "      <td>275000</td>\n",
       "      <td>4.0</td>\n",
       "      <td>120.0</td>\n",
       "      <td>12.0</td>\n",
       "      <td>Kombi</td>\n",
       "      <td>Uygun</td>\n",
       "      <td>Kot 1</td>\n",
       "      <td>1.0</td>\n",
       "      <td>Çankaya</td>\n",
       "      <td>925828.0</td>\n",
       "      <td>Lisans</td>\n",
       "      <td>0,7</td>\n",
       "    </tr>\n",
       "    <tr>\n",
       "      <th>1</th>\n",
       "      <td>4819</td>\n",
       "      <td>4819.0</td>\n",
       "      <td>700000</td>\n",
       "      <td>3.0</td>\n",
       "      <td>88.0</td>\n",
       "      <td>0.0</td>\n",
       "      <td>Merkezi(PayÖlçer)</td>\n",
       "      <td>Uygun</td>\n",
       "      <td>1. Kat</td>\n",
       "      <td>1.0</td>\n",
       "      <td>Çankaya</td>\n",
       "      <td>925828.0</td>\n",
       "      <td>Lisans</td>\n",
       "      <td>0,7</td>\n",
       "    </tr>\n",
       "    <tr>\n",
       "      <th>2</th>\n",
       "      <td>149</td>\n",
       "      <td>149.0</td>\n",
       "      <td>980000</td>\n",
       "      <td>5.0</td>\n",
       "      <td>230.0</td>\n",
       "      <td>30.0</td>\n",
       "      <td>Kombi</td>\n",
       "      <td>Uygun</td>\n",
       "      <td>3. Kat</td>\n",
       "      <td>2.0</td>\n",
       "      <td>Çankaya</td>\n",
       "      <td>925828.0</td>\n",
       "      <td>liSans</td>\n",
       "      <td>0,7</td>\n",
       "    </tr>\n",
       "    <tr>\n",
       "      <th>3</th>\n",
       "      <td>3628</td>\n",
       "      <td>3628.0</td>\n",
       "      <td>385000</td>\n",
       "      <td>4.0</td>\n",
       "      <td>120.0</td>\n",
       "      <td>22.0</td>\n",
       "      <td>Kombi</td>\n",
       "      <td>Uygun</td>\n",
       "      <td>2. Kat</td>\n",
       "      <td>1.0</td>\n",
       "      <td>Keçiören</td>\n",
       "      <td>938565.0</td>\n",
       "      <td>Lise</td>\n",
       "      <td>1,43</td>\n",
       "    </tr>\n",
       "    <tr>\n",
       "      <th>4</th>\n",
       "      <td>3936</td>\n",
       "      <td>3936.0</td>\n",
       "      <td>700000</td>\n",
       "      <td>5.0</td>\n",
       "      <td>150.0</td>\n",
       "      <td>0.0</td>\n",
       "      <td>Kombi</td>\n",
       "      <td>Uygun</td>\n",
       "      <td>Ara Kat</td>\n",
       "      <td>2.0</td>\n",
       "      <td>Çankaya</td>\n",
       "      <td>925828.0</td>\n",
       "      <td>Lisans</td>\n",
       "      <td>0,7</td>\n",
       "    </tr>\n",
       "  </tbody>\n",
       "</table>\n",
       "</div>"
      ],
      "text/plain": [
       "   Sütun1      id   fiyat  oda_salon_sayisi  net_m2  bina_yasi  \\\n",
       "0    2612  2612.0  275000               4.0   120.0       12.0   \n",
       "1    4819  4819.0  700000               3.0    88.0        0.0   \n",
       "2     149   149.0  980000               5.0   230.0       30.0   \n",
       "3    3628  3628.0  385000               4.0   120.0       22.0   \n",
       "4    3936  3936.0  700000               5.0   150.0        0.0   \n",
       "\n",
       "         isinma_tipi krediye_uygunluk bulundugu_kat  banyo_sayisi      ilce  \\\n",
       "0              Kombi            Uygun         Kot 1           1.0   Çankaya   \n",
       "1  Merkezi(PayÖlçer)            Uygun        1. Kat           1.0   Çankaya   \n",
       "2              Kombi            Uygun        3. Kat           2.0   Çankaya   \n",
       "3              Kombi            Uygun        2. Kat           1.0  Keçiören   \n",
       "4              Kombi            Uygun       Ara Kat           2.0   Çankaya   \n",
       "\n",
       "      nüfus  eðitim okuma_yazma_bilmeyen  \n",
       "0  925828.0  Lisans                  0,7  \n",
       "1  925828.0  Lisans                  0,7  \n",
       "2  925828.0  liSans                  0,7  \n",
       "3  938565.0    Lise                 1,43  \n",
       "4  925828.0  Lisans                  0,7  "
      ]
     },
     "execution_count": 8,
     "metadata": {},
     "output_type": "execute_result"
    }
   ],
   "source": [
    "data.head() "
   ]
  },
  {
   "cell_type": "markdown",
   "metadata": {},
   "source": [
    "Eksik Veri Kontrolu"
   ]
  },
  {
   "cell_type": "code",
   "execution_count": 9,
   "metadata": {},
   "outputs": [
    {
     "data": {
      "text/html": [
       "<div>\n",
       "<style scoped>\n",
       "    .dataframe tbody tr th:only-of-type {\n",
       "        vertical-align: middle;\n",
       "    }\n",
       "\n",
       "    .dataframe tbody tr th {\n",
       "        vertical-align: top;\n",
       "    }\n",
       "\n",
       "    .dataframe thead th {\n",
       "        text-align: right;\n",
       "    }\n",
       "</style>\n",
       "<table border=\"1\" class=\"dataframe\">\n",
       "  <thead>\n",
       "    <tr style=\"text-align: right;\">\n",
       "      <th></th>\n",
       "      <th>Sütun1</th>\n",
       "      <th>id</th>\n",
       "      <th>fiyat</th>\n",
       "      <th>oda_salon_sayisi</th>\n",
       "      <th>net_m2</th>\n",
       "      <th>bina_yasi</th>\n",
       "      <th>isinma_tipi</th>\n",
       "      <th>krediye_uygunluk</th>\n",
       "      <th>bulundugu_kat</th>\n",
       "      <th>banyo_sayisi</th>\n",
       "      <th>ilce</th>\n",
       "      <th>nüfus</th>\n",
       "      <th>eðitim</th>\n",
       "      <th>okuma_yazma_bilmeyen</th>\n",
       "    </tr>\n",
       "  </thead>\n",
       "  <tbody>\n",
       "    <tr>\n",
       "      <th># of NaN Values</th>\n",
       "      <td>0</td>\n",
       "      <td>2</td>\n",
       "      <td>10</td>\n",
       "      <td>9</td>\n",
       "      <td>9</td>\n",
       "      <td>6</td>\n",
       "      <td>4</td>\n",
       "      <td>4</td>\n",
       "      <td>4</td>\n",
       "      <td>8</td>\n",
       "      <td>7</td>\n",
       "      <td>8</td>\n",
       "      <td>5</td>\n",
       "      <td>5</td>\n",
       "    </tr>\n",
       "  </tbody>\n",
       "</table>\n",
       "</div>"
      ],
      "text/plain": [
       "                 Sütun1  id  fiyat  oda_salon_sayisi  net_m2  bina_yasi  \\\n",
       "# of NaN Values       0   2     10                 9       9          6   \n",
       "\n",
       "                 isinma_tipi  krediye_uygunluk  bulundugu_kat  banyo_sayisi  \\\n",
       "# of NaN Values            4                 4              4             8   \n",
       "\n",
       "                 ilce  nüfus  eðitim  okuma_yazma_bilmeyen  \n",
       "# of NaN Values     7      8       5                     5  "
      ]
     },
     "execution_count": 9,
     "metadata": {},
     "output_type": "execute_result"
    }
   ],
   "source": [
    "def N_check(data): \n",
    "    NaN_dict = {} \n",
    "    for i in data:\n",
    "        NaN_dict[i] = sum( data[f'{i}'].isna() ) \n",
    "\n",
    "    NaN_dict = pd.DataFrame.from_dict(orient='index', data= NaN_dict)\n",
    "    NaN_dict = NaN_dict.T \n",
    "    NaN_dict = NaN_dict.rename(index= {0:'# of NaN Values'}) \n",
    "    return NaN_dict \n",
    "N_check(data) "
   ]
  },
  {
   "cell_type": "code",
   "execution_count": 10,
   "metadata": {},
   "outputs": [
    {
     "data": {
      "text/html": [
       "<div>\n",
       "<style scoped>\n",
       "    .dataframe tbody tr th:only-of-type {\n",
       "        vertical-align: middle;\n",
       "    }\n",
       "\n",
       "    .dataframe tbody tr th {\n",
       "        vertical-align: top;\n",
       "    }\n",
       "\n",
       "    .dataframe thead th {\n",
       "        text-align: right;\n",
       "    }\n",
       "</style>\n",
       "<table border=\"1\" class=\"dataframe\">\n",
       "  <thead>\n",
       "    <tr style=\"text-align: right;\">\n",
       "      <th></th>\n",
       "      <th>Sütun1</th>\n",
       "      <th>id</th>\n",
       "      <th>fiyat</th>\n",
       "      <th>oda_salon_sayisi</th>\n",
       "      <th>net_m2</th>\n",
       "      <th>bina_yasi</th>\n",
       "      <th>isinma_tipi</th>\n",
       "      <th>krediye_uygunluk</th>\n",
       "      <th>bulundugu_kat</th>\n",
       "      <th>banyo_sayisi</th>\n",
       "      <th>ilce</th>\n",
       "      <th>nüfus</th>\n",
       "      <th>eðitim</th>\n",
       "      <th>okuma_yazma_bilmeyen</th>\n",
       "    </tr>\n",
       "  </thead>\n",
       "  <tbody>\n",
       "    <tr>\n",
       "      <th># of NaN Values</th>\n",
       "      <td>0</td>\n",
       "      <td>0</td>\n",
       "      <td>0</td>\n",
       "      <td>0</td>\n",
       "      <td>0</td>\n",
       "      <td>0</td>\n",
       "      <td>0</td>\n",
       "      <td>0</td>\n",
       "      <td>0</td>\n",
       "      <td>0</td>\n",
       "      <td>0</td>\n",
       "      <td>0</td>\n",
       "      <td>0</td>\n",
       "      <td>0</td>\n",
       "    </tr>\n",
       "  </tbody>\n",
       "</table>\n",
       "</div>"
      ],
      "text/plain": [
       "                 Sütun1  id  fiyat  oda_salon_sayisi  net_m2  bina_yasi  \\\n",
       "# of NaN Values       0   0      0                 0       0          0   \n",
       "\n",
       "                 isinma_tipi  krediye_uygunluk  bulundugu_kat  banyo_sayisi  \\\n",
       "# of NaN Values            0                 0              0             0   \n",
       "\n",
       "                 ilce  nüfus  eðitim  okuma_yazma_bilmeyen  \n",
       "# of NaN Values     0      0       0                     0  "
      ]
     },
     "execution_count": 10,
     "metadata": {},
     "output_type": "execute_result"
    }
   ],
   "source": [
    "data = data.dropna() \n",
    "N_check(data) "
   ]
  },
  {
   "cell_type": "code",
   "execution_count": 11,
   "metadata": {},
   "outputs": [
    {
     "data": {
      "text/html": [
       "<div>\n",
       "<style scoped>\n",
       "    .dataframe tbody tr th:only-of-type {\n",
       "        vertical-align: middle;\n",
       "    }\n",
       "\n",
       "    .dataframe tbody tr th {\n",
       "        vertical-align: top;\n",
       "    }\n",
       "\n",
       "    .dataframe thead th {\n",
       "        text-align: right;\n",
       "    }\n",
       "</style>\n",
       "<table border=\"1\" class=\"dataframe\">\n",
       "  <thead>\n",
       "    <tr style=\"text-align: right;\">\n",
       "      <th></th>\n",
       "      <th>Sütun1</th>\n",
       "      <th>id</th>\n",
       "      <th>fiyat</th>\n",
       "      <th>oda_salon_sayisi</th>\n",
       "      <th>net_m2</th>\n",
       "      <th>bina_yasi</th>\n",
       "      <th>isinma_tipi</th>\n",
       "      <th>krediye_uygunluk</th>\n",
       "      <th>bulundugu_kat</th>\n",
       "      <th>banyo_sayisi</th>\n",
       "    </tr>\n",
       "  </thead>\n",
       "  <tbody>\n",
       "    <tr>\n",
       "      <th>0</th>\n",
       "      <td>2612</td>\n",
       "      <td>2612.0</td>\n",
       "      <td>275000</td>\n",
       "      <td>4.0</td>\n",
       "      <td>120.0</td>\n",
       "      <td>12.0</td>\n",
       "      <td>Kombi</td>\n",
       "      <td>Uygun</td>\n",
       "      <td>Kot 1</td>\n",
       "      <td>1.0</td>\n",
       "    </tr>\n",
       "    <tr>\n",
       "      <th>1</th>\n",
       "      <td>4819</td>\n",
       "      <td>4819.0</td>\n",
       "      <td>700000</td>\n",
       "      <td>3.0</td>\n",
       "      <td>88.0</td>\n",
       "      <td>0.0</td>\n",
       "      <td>Merkezi(PayÖlçer)</td>\n",
       "      <td>Uygun</td>\n",
       "      <td>1. Kat</td>\n",
       "      <td>1.0</td>\n",
       "    </tr>\n",
       "    <tr>\n",
       "      <th>2</th>\n",
       "      <td>149</td>\n",
       "      <td>149.0</td>\n",
       "      <td>980000</td>\n",
       "      <td>5.0</td>\n",
       "      <td>230.0</td>\n",
       "      <td>30.0</td>\n",
       "      <td>Kombi</td>\n",
       "      <td>Uygun</td>\n",
       "      <td>3. Kat</td>\n",
       "      <td>2.0</td>\n",
       "    </tr>\n",
       "    <tr>\n",
       "      <th>3</th>\n",
       "      <td>3628</td>\n",
       "      <td>3628.0</td>\n",
       "      <td>385000</td>\n",
       "      <td>4.0</td>\n",
       "      <td>120.0</td>\n",
       "      <td>22.0</td>\n",
       "      <td>Kombi</td>\n",
       "      <td>Uygun</td>\n",
       "      <td>2. Kat</td>\n",
       "      <td>1.0</td>\n",
       "    </tr>\n",
       "    <tr>\n",
       "      <th>4</th>\n",
       "      <td>3936</td>\n",
       "      <td>3936.0</td>\n",
       "      <td>700000</td>\n",
       "      <td>5.0</td>\n",
       "      <td>150.0</td>\n",
       "      <td>0.0</td>\n",
       "      <td>Kombi</td>\n",
       "      <td>Uygun</td>\n",
       "      <td>Ara Kat</td>\n",
       "      <td>2.0</td>\n",
       "    </tr>\n",
       "    <tr>\n",
       "      <th>...</th>\n",
       "      <td>...</td>\n",
       "      <td>...</td>\n",
       "      <td>...</td>\n",
       "      <td>...</td>\n",
       "      <td>...</td>\n",
       "      <td>...</td>\n",
       "      <td>...</td>\n",
       "      <td>...</td>\n",
       "      <td>...</td>\n",
       "      <td>...</td>\n",
       "    </tr>\n",
       "    <tr>\n",
       "      <th>67</th>\n",
       "      <td>4051</td>\n",
       "      <td>4051.0</td>\n",
       "      <td>720000</td>\n",
       "      <td>5.0</td>\n",
       "      <td>170.0</td>\n",
       "      <td>11.0</td>\n",
       "      <td>Kombi</td>\n",
       "      <td>Uygun</td>\n",
       "      <td>2. Kat</td>\n",
       "      <td>2.0</td>\n",
       "    </tr>\n",
       "    <tr>\n",
       "      <th>68</th>\n",
       "      <td>3330</td>\n",
       "      <td>3330.0</td>\n",
       "      <td>3750000</td>\n",
       "      <td>6.0</td>\n",
       "      <td>325.0</td>\n",
       "      <td>15.0</td>\n",
       "      <td>KatKaloriferi</td>\n",
       "      <td>Uygun</td>\n",
       "      <td>Ara Kat</td>\n",
       "      <td>3.0</td>\n",
       "    </tr>\n",
       "    <tr>\n",
       "      <th>69</th>\n",
       "      <td>4943</td>\n",
       "      <td>4943.0</td>\n",
       "      <td>350000</td>\n",
       "      <td>4.0</td>\n",
       "      <td>115.0</td>\n",
       "      <td>0.0</td>\n",
       "      <td>Kombi</td>\n",
       "      <td>Uygun</td>\n",
       "      <td>4. Kat</td>\n",
       "      <td>1.0</td>\n",
       "    </tr>\n",
       "    <tr>\n",
       "      <th>70</th>\n",
       "      <td>4016</td>\n",
       "      <td>4016.0</td>\n",
       "      <td>2,83E+05</td>\n",
       "      <td>4.0</td>\n",
       "      <td>120.0</td>\n",
       "      <td>4.0</td>\n",
       "      <td>Kombi</td>\n",
       "      <td>Uygun</td>\n",
       "      <td>1. Kat</td>\n",
       "      <td>1.0</td>\n",
       "    </tr>\n",
       "    <tr>\n",
       "      <th>71</th>\n",
       "      <td>79</td>\n",
       "      <td>79.0</td>\n",
       "      <td>595000</td>\n",
       "      <td>4.0</td>\n",
       "      <td>129.0</td>\n",
       "      <td>35.0</td>\n",
       "      <td>Merkezi</td>\n",
       "      <td>Uygun</td>\n",
       "      <td>2. Kat</td>\n",
       "      <td>1.0</td>\n",
       "    </tr>\n",
       "  </tbody>\n",
       "</table>\n",
       "<p>72 rows × 10 columns</p>\n",
       "</div>"
      ],
      "text/plain": [
       "    Sütun1      id     fiyat  oda_salon_sayisi  net_m2  bina_yasi  \\\n",
       "0     2612  2612.0    275000               4.0   120.0       12.0   \n",
       "1     4819  4819.0    700000               3.0    88.0        0.0   \n",
       "2      149   149.0    980000               5.0   230.0       30.0   \n",
       "3     3628  3628.0    385000               4.0   120.0       22.0   \n",
       "4     3936  3936.0    700000               5.0   150.0        0.0   \n",
       "..     ...     ...       ...               ...     ...        ...   \n",
       "67    4051  4051.0    720000               5.0   170.0       11.0   \n",
       "68    3330  3330.0   3750000               6.0   325.0       15.0   \n",
       "69    4943  4943.0    350000               4.0   115.0        0.0   \n",
       "70    4016  4016.0  2,83E+05               4.0   120.0        4.0   \n",
       "71      79    79.0    595000               4.0   129.0       35.0   \n",
       "\n",
       "          isinma_tipi krediye_uygunluk bulundugu_kat  banyo_sayisi  \n",
       "0               Kombi            Uygun         Kot 1           1.0  \n",
       "1   Merkezi(PayÖlçer)            Uygun        1. Kat           1.0  \n",
       "2               Kombi            Uygun        3. Kat           2.0  \n",
       "3               Kombi            Uygun        2. Kat           1.0  \n",
       "4               Kombi            Uygun       Ara Kat           2.0  \n",
       "..                ...              ...           ...           ...  \n",
       "67              Kombi            Uygun        2. Kat           2.0  \n",
       "68      KatKaloriferi            Uygun       Ara Kat           3.0  \n",
       "69              Kombi            Uygun        4. Kat           1.0  \n",
       "70              Kombi            Uygun        1. Kat           1.0  \n",
       "71            Merkezi            Uygun        2. Kat           1.0  \n",
       "\n",
       "[72 rows x 10 columns]"
      ]
     },
     "execution_count": 11,
     "metadata": {},
     "output_type": "execute_result"
    }
   ],
   "source": [
    "data.reset_index(inplace = True) \n",
    "data.set_index('index') \n",
    "data = data.iloc[:,1:] \n",
    "data.iloc[:72,:10] "
   ]
  },
  {
   "cell_type": "markdown",
   "metadata": {},
   "source": [
    "Veri Tipi Deger Kontrolu"
   ]
  },
  {
   "cell_type": "code",
   "execution_count": 12,
   "metadata": {},
   "outputs": [
    {
     "data": {
      "text/html": [
       "<div>\n",
       "<style scoped>\n",
       "    .dataframe tbody tr th:only-of-type {\n",
       "        vertical-align: middle;\n",
       "    }\n",
       "\n",
       "    .dataframe tbody tr th {\n",
       "        vertical-align: top;\n",
       "    }\n",
       "\n",
       "    .dataframe thead th {\n",
       "        text-align: right;\n",
       "    }\n",
       "</style>\n",
       "<table border=\"1\" class=\"dataframe\">\n",
       "  <thead>\n",
       "    <tr style=\"text-align: right;\">\n",
       "      <th></th>\n",
       "      <th>1</th>\n",
       "      <th>0</th>\n",
       "    </tr>\n",
       "  </thead>\n",
       "  <tbody>\n",
       "    <tr>\n",
       "      <th>Sütun1</th>\n",
       "      <td>4819</td>\n",
       "      <td>&lt;class 'numpy.int64'&gt;</td>\n",
       "    </tr>\n",
       "    <tr>\n",
       "      <th>id</th>\n",
       "      <td>4819.0</td>\n",
       "      <td>&lt;class 'numpy.float64'&gt;</td>\n",
       "    </tr>\n",
       "    <tr>\n",
       "      <th>fiyat</th>\n",
       "      <td>700000</td>\n",
       "      <td>&lt;class 'str'&gt;</td>\n",
       "    </tr>\n",
       "    <tr>\n",
       "      <th>oda_salon_sayisi</th>\n",
       "      <td>3.0</td>\n",
       "      <td>&lt;class 'numpy.float64'&gt;</td>\n",
       "    </tr>\n",
       "    <tr>\n",
       "      <th>net_m2</th>\n",
       "      <td>88.0</td>\n",
       "      <td>&lt;class 'numpy.float64'&gt;</td>\n",
       "    </tr>\n",
       "    <tr>\n",
       "      <th>bina_yasi</th>\n",
       "      <td>0.0</td>\n",
       "      <td>&lt;class 'numpy.float64'&gt;</td>\n",
       "    </tr>\n",
       "    <tr>\n",
       "      <th>isinma_tipi</th>\n",
       "      <td>Merkezi(PayÖlçer)</td>\n",
       "      <td>&lt;class 'str'&gt;</td>\n",
       "    </tr>\n",
       "    <tr>\n",
       "      <th>krediye_uygunluk</th>\n",
       "      <td>Uygun</td>\n",
       "      <td>&lt;class 'str'&gt;</td>\n",
       "    </tr>\n",
       "    <tr>\n",
       "      <th>bulundugu_kat</th>\n",
       "      <td>1. Kat</td>\n",
       "      <td>&lt;class 'str'&gt;</td>\n",
       "    </tr>\n",
       "    <tr>\n",
       "      <th>banyo_sayisi</th>\n",
       "      <td>1.0</td>\n",
       "      <td>&lt;class 'numpy.float64'&gt;</td>\n",
       "    </tr>\n",
       "    <tr>\n",
       "      <th>ilce</th>\n",
       "      <td>Çankaya</td>\n",
       "      <td>&lt;class 'str'&gt;</td>\n",
       "    </tr>\n",
       "    <tr>\n",
       "      <th>nüfus</th>\n",
       "      <td>925828.0</td>\n",
       "      <td>&lt;class 'numpy.float64'&gt;</td>\n",
       "    </tr>\n",
       "    <tr>\n",
       "      <th>eðitim</th>\n",
       "      <td>Lisans</td>\n",
       "      <td>&lt;class 'str'&gt;</td>\n",
       "    </tr>\n",
       "    <tr>\n",
       "      <th>okuma_yazma_bilmeyen</th>\n",
       "      <td>0,7</td>\n",
       "      <td>&lt;class 'str'&gt;</td>\n",
       "    </tr>\n",
       "  </tbody>\n",
       "</table>\n",
       "</div>"
      ],
      "text/plain": [
       "                                      1                        0\n",
       "Sütun1                             4819    <class 'numpy.int64'>\n",
       "id                               4819.0  <class 'numpy.float64'>\n",
       "fiyat                            700000            <class 'str'>\n",
       "oda_salon_sayisi                    3.0  <class 'numpy.float64'>\n",
       "net_m2                             88.0  <class 'numpy.float64'>\n",
       "bina_yasi                           0.0  <class 'numpy.float64'>\n",
       "isinma_tipi           Merkezi(PayÖlçer)            <class 'str'>\n",
       "krediye_uygunluk                  Uygun            <class 'str'>\n",
       "bulundugu_kat                    1. Kat            <class 'str'>\n",
       "banyo_sayisi                        1.0  <class 'numpy.float64'>\n",
       "ilce                            Çankaya            <class 'str'>\n",
       "nüfus                          925828.0  <class 'numpy.float64'>\n",
       "eðitim                           Lisans            <class 'str'>\n",
       "okuma_yazma_bilmeyen                0,7            <class 'str'>"
      ]
     },
     "execution_count": 12,
     "metadata": {},
     "output_type": "execute_result"
    }
   ],
   "source": [
    "type_D = dict() \n",
    "for i in data:\n",
    "    type_D[i] = type( data.loc[1,i] ) \n",
    "type_D = pd.DataFrame.from_dict(orient='index', data= type_D)\n",
    "\n",
    "pd.concat( [ data.iloc[1,:], type_D],axis=1)"
   ]
  },
  {
   "cell_type": "markdown",
   "metadata": {},
   "source": [
    "Outlier Kontrolu"
   ]
  },
  {
   "cell_type": "code",
   "execution_count": 13,
   "metadata": {},
   "outputs": [
    {
     "name": "stderr",
     "output_type": "stream",
     "text": [
      "c:\\Users\\Asus\\AppData\\Local\\Programs\\Python\\Python310\\lib\\site-packages\\seaborn\\axisgrid.py:2076: UserWarning: The `size` parameter has been renamed to `height`; please update your code.\n",
      "  warnings.warn(msg, UserWarning)\n"
     ]
    },
    {
     "data": {
      "image/png": "[encoded data removed]",
      "text/plain": [
       "<Figure size 1260x1260 with 56 Axes>"
      ]
     },
     "metadata": {
      "needs_background": "light"
     },
     "output_type": "display_data"
    }
   ],
   "source": [
    "plot_show = 1\n",
    "if plot_show ==1 :\n",
    "    sns.pairplot(data, size=2.5) "
   ]
  },
  {
   "cell_type": "markdown",
   "metadata": {},
   "source": [
    "## Veri Setlerinin Incelenmesi"
   ]
  },
  {
   "cell_type": "markdown",
   "metadata": {},
   "source": [
    "`fiyat`"
   ]
  },
  {
   "cell_type": "code",
   "execution_count": 14,
   "metadata": {},
   "outputs": [],
   "source": [
    "Temp =[] \n",
    "for i,j in enumerate( data['fiyat'] ): \n",
    "    if ('E' in j) or 'e' in j:\n",
    "        j = j.replace(',','') \n",
    "        j = j[:4] + str( int(j[-2:]) * str(0) ) \n",
    "        j = j[:3] + j[5:]\n",
    "        Temp.append( int( j) /10 ) \n",
    "    else:\n",
    "        Temp.append(int(j))        \n",
    "\n",
    "data['fiyat'] = Temp "
   ]
  },
  {
   "cell_type": "markdown",
   "metadata": {},
   "source": [
    "`okuma_yazma_bilmeyen`"
   ]
  },
  {
   "cell_type": "code",
   "execution_count": 15,
   "metadata": {},
   "outputs": [],
   "source": [
    "Temp =[] \n",
    "for i,j in enumerate( data['okuma_yazma_bilmeyen'] ): \n",
    "    j = j.replace(',','.') \n",
    "    Temp.append( float(j) ) \n",
    "\n",
    "data['okuma_yazma_bilmeyen'] = Temp  "
   ]
  },
  {
   "cell_type": "code",
   "execution_count": 16,
   "metadata": {},
   "outputs": [
    {
     "data": {
      "text/plain": [
       "array(['Kombi', 'Merkezi(PayÖlçer)', 'Merkezi', 'KatKaloriferi', 'Klima'],\n",
       "      dtype=object)"
      ]
     },
     "execution_count": 16,
     "metadata": {},
     "output_type": "execute_result"
    }
   ],
   "source": [
    "pd.unique(data['isinma_tipi'])"
   ]
  },
  {
   "cell_type": "code",
   "execution_count": 17,
   "metadata": {},
   "outputs": [],
   "source": [
    "Temp =[] \n",
    "for i,j in enumerate( data['isinma_tipi'] ): \n",
    "    if '?' in j:\n",
    "        j = 'Merkezi'\n",
    "        Temp.append( j ) \n",
    "    elif 'KatKaloriferi' == j:\n",
    "        j = 'Kat Kaloriferi'\n",
    "        Temp.append( j )         \n",
    "    else:\n",
    "        Temp.append(j) \n",
    "data['isinma_tipi'] = Temp  "
   ]
  },
  {
   "cell_type": "markdown",
   "metadata": {},
   "source": [
    "`Egitim`"
   ]
  },
  {
   "cell_type": "code",
   "execution_count": 18,
   "metadata": {},
   "outputs": [],
   "source": [
    "data.rename(columns={'eðitim':'Egitim'},inplace = True ) "
   ]
  },
  {
   "cell_type": "code",
   "execution_count": 19,
   "metadata": {},
   "outputs": [
    {
     "data": {
      "text/plain": [
       "array(['Lisans', 'liSans', 'Lise', 'liS3'], dtype=object)"
      ]
     },
     "execution_count": 19,
     "metadata": {},
     "output_type": "execute_result"
    }
   ],
   "source": [
    "pd.unique(data['Egitim'])"
   ]
  },
  {
   "cell_type": "code",
   "execution_count": 20,
   "metadata": {},
   "outputs": [],
   "source": [
    "Temp =[] \n",
    "for i,j in enumerate( data['Egitim'] ): \n",
    "    if 'S' in j:\n",
    "        j = 'Lisans'\n",
    "        Temp.append( j ) \n",
    "    elif '3' in j:\n",
    "        Temp.append(j) \n",
    "    else:\n",
    "        Temp.append(j) \n",
    "data['Egitim'] = Temp  "
   ]
  },
  {
   "cell_type": "markdown",
   "metadata": {},
   "source": [
    "`bulundugu_kat`"
   ]
  },
  {
   "cell_type": "code",
   "execution_count": 21,
   "metadata": {},
   "outputs": [
    {
     "data": {
      "text/plain": [
       "array(['Kot 1', '1. Kat', '3. Kat', '2. Kat', 'Ara Kat', 'Bahçe Katý',\n",
       "       'Teras Katý', 'Yüksek Giriþ', '4. Kat', 'En Üst Kat', '9. Kat',\n",
       "       'Kot 2', '5. Kat', '6. Kat', '7. Kat', '21 ve üzeri', 'Giriþ Katý',\n",
       "       '13. Kat', 'Zemin', '12. Kat', '14. Kat', '11. Kat', '15. Kat',\n",
       "       '20. Kat', 'Kot 3', '8. Kat', '17. Kat', 'Çatý Katý', '16. Kat',\n",
       "       '10. Kat', '19. Kat', 'Bodrum', 'Villa Katý'], dtype=object)"
      ]
     },
     "execution_count": 21,
     "metadata": {},
     "output_type": "execute_result"
    }
   ],
   "source": [
    "pd.unique(data['bulundugu_kat'])"
   ]
  },
  {
   "cell_type": "code",
   "execution_count": 22,
   "metadata": {},
   "outputs": [],
   "source": [
    "Temp =[] \n",
    "for i,j in enumerate( data['bulundugu_kat'] ): \n",
    "    if 'Kot 1' in j:\n",
    "        j = '1. Kat'\n",
    "        Temp.append( j ) \n",
    "    elif 'Kot 2' in j:\n",
    "        j = '2. Kat'\n",
    "        Temp.append( j ) \n",
    "    elif 'Giri' in j:\n",
    "        j = 'Giris Kati'\n",
    "        Temp.append( j )\n",
    "    elif '?at?' in j:\n",
    "        j = 'Cati Kati'\n",
    "        Temp.append( j )\n",
    "    elif 'h?e' in j:\n",
    "        j = 'Bahce Kati'\n",
    "        Temp.append( j ) \n",
    "    elif 'Teras' in j:\n",
    "        j = 'Teras Kati'\n",
    "        Temp.append( j )\n",
    "    elif 'ksek' in j:\n",
    "        j = 'Yuksek Giris'\n",
    "        Temp.append( j )\n",
    "    elif 'st Kat' in j:\n",
    "        j = 'En Ust Kat'\n",
    "        Temp.append( j )  \n",
    "    elif '21' in j:\n",
    "        j = '21 Ve Uzeri'\n",
    "        Temp.append( j )  \n",
    "    elif 'Villa' in j:\n",
    "        j = 'Villa Kati'\n",
    "        Temp.append( j )                         \n",
    "    else:\n",
    "        Temp.append(j) \n",
    "data['bulundugu_kat'] = Temp  "
   ]
  },
  {
   "cell_type": "markdown",
   "metadata": {},
   "source": [
    "`krediye_uygunluk`"
   ]
  },
  {
   "cell_type": "code",
   "execution_count": 23,
   "metadata": {},
   "outputs": [],
   "source": [
    "Temp =[] \n",
    "for i,j in enumerate( data['krediye_uygunluk'] ): \n",
    "    if '?' in j:\n",
    "        j = j.replace('?','g') \n",
    "        Temp.append( j ) \n",
    "    else:\n",
    "        Temp.append(j) \n",
    "data['krediye_uygunluk'] = Temp  "
   ]
  },
  {
   "cell_type": "code",
   "execution_count": 24,
   "metadata": {},
   "outputs": [],
   "source": [
    "data['Kredi_Uygunlugu'] = data['krediye_uygunluk'].map({'Uygun':1, 'Uygun degil':0 } ) "
   ]
  },
  {
   "cell_type": "markdown",
   "metadata": {},
   "source": [
    "`ilce`"
   ]
  },
  {
   "cell_type": "code",
   "execution_count": 25,
   "metadata": {},
   "outputs": [],
   "source": [
    "Temp =[] \n",
    "for i,j in enumerate( data['ilce'] ): \n",
    "    if '?i?' in j:\n",
    "        j = 'Kecioren'\n",
    "        Temp.append( j ) \n",
    "    elif '?' in j:\n",
    "        j = 'Antalya'\n",
    "        Temp.append( j ) \n",
    "    elif 'cank' in j:\n",
    "        j = 'Cankaya'\n",
    "        Temp.append( j ) \n",
    "    else:\n",
    "        Temp.append(j) \n",
    "data['ilce'] = Temp  "
   ]
  },
  {
   "cell_type": "code",
   "execution_count": 26,
   "metadata": {},
   "outputs": [
    {
     "name": "stdout",
     "output_type": "stream",
     "text": [
      "Before Antalya is out\n",
      "Number of Columns: 15 \n",
      "Number of Rows: 4142\n",
      "After Antalya is out\n",
      "Number of Columns: 15 \n",
      "Number of Rows: 4142\n"
     ]
    },
    {
     "data": {
      "text/html": [
       "<div>\n",
       "<style scoped>\n",
       "    .dataframe tbody tr th:only-of-type {\n",
       "        vertical-align: middle;\n",
       "    }\n",
       "\n",
       "    .dataframe tbody tr th {\n",
       "        vertical-align: top;\n",
       "    }\n",
       "\n",
       "    .dataframe thead th {\n",
       "        text-align: right;\n",
       "    }\n",
       "</style>\n",
       "<table border=\"1\" class=\"dataframe\">\n",
       "  <thead>\n",
       "    <tr style=\"text-align: right;\">\n",
       "      <th></th>\n",
       "      <th>Sütun1</th>\n",
       "      <th>id</th>\n",
       "      <th>fiyat</th>\n",
       "      <th>oda_salon_sayisi</th>\n",
       "      <th>net_m2</th>\n",
       "      <th>bina_yasi</th>\n",
       "      <th>isinma_tipi</th>\n",
       "      <th>krediye_uygunluk</th>\n",
       "      <th>bulundugu_kat</th>\n",
       "      <th>banyo_sayisi</th>\n",
       "      <th>ilce</th>\n",
       "      <th>nüfus</th>\n",
       "      <th>Egitim</th>\n",
       "      <th>okuma_yazma_bilmeyen</th>\n",
       "      <th>Kredi_Uygunlugu</th>\n",
       "    </tr>\n",
       "  </thead>\n",
       "  <tbody>\n",
       "    <tr>\n",
       "      <th>0</th>\n",
       "      <td>2612</td>\n",
       "      <td>2612.0</td>\n",
       "      <td>275000.0</td>\n",
       "      <td>4.0</td>\n",
       "      <td>120.0</td>\n",
       "      <td>12.0</td>\n",
       "      <td>Kombi</td>\n",
       "      <td>Uygun</td>\n",
       "      <td>1. Kat</td>\n",
       "      <td>1.0</td>\n",
       "      <td>Çankaya</td>\n",
       "      <td>925828.0</td>\n",
       "      <td>Lisans</td>\n",
       "      <td>0.70</td>\n",
       "      <td>1.0</td>\n",
       "    </tr>\n",
       "    <tr>\n",
       "      <th>1</th>\n",
       "      <td>4819</td>\n",
       "      <td>4819.0</td>\n",
       "      <td>700000.0</td>\n",
       "      <td>3.0</td>\n",
       "      <td>88.0</td>\n",
       "      <td>0.0</td>\n",
       "      <td>Merkezi(PayÖlçer)</td>\n",
       "      <td>Uygun</td>\n",
       "      <td>1. Kat</td>\n",
       "      <td>1.0</td>\n",
       "      <td>Çankaya</td>\n",
       "      <td>925828.0</td>\n",
       "      <td>Lisans</td>\n",
       "      <td>0.70</td>\n",
       "      <td>1.0</td>\n",
       "    </tr>\n",
       "    <tr>\n",
       "      <th>2</th>\n",
       "      <td>149</td>\n",
       "      <td>149.0</td>\n",
       "      <td>980000.0</td>\n",
       "      <td>5.0</td>\n",
       "      <td>230.0</td>\n",
       "      <td>30.0</td>\n",
       "      <td>Kombi</td>\n",
       "      <td>Uygun</td>\n",
       "      <td>3. Kat</td>\n",
       "      <td>2.0</td>\n",
       "      <td>Çankaya</td>\n",
       "      <td>925828.0</td>\n",
       "      <td>Lisans</td>\n",
       "      <td>0.70</td>\n",
       "      <td>1.0</td>\n",
       "    </tr>\n",
       "    <tr>\n",
       "      <th>3</th>\n",
       "      <td>3628</td>\n",
       "      <td>3628.0</td>\n",
       "      <td>385000.0</td>\n",
       "      <td>4.0</td>\n",
       "      <td>120.0</td>\n",
       "      <td>22.0</td>\n",
       "      <td>Kombi</td>\n",
       "      <td>Uygun</td>\n",
       "      <td>2. Kat</td>\n",
       "      <td>1.0</td>\n",
       "      <td>Keçiören</td>\n",
       "      <td>938565.0</td>\n",
       "      <td>Lise</td>\n",
       "      <td>1.43</td>\n",
       "      <td>1.0</td>\n",
       "    </tr>\n",
       "    <tr>\n",
       "      <th>4</th>\n",
       "      <td>3936</td>\n",
       "      <td>3936.0</td>\n",
       "      <td>700000.0</td>\n",
       "      <td>5.0</td>\n",
       "      <td>150.0</td>\n",
       "      <td>0.0</td>\n",
       "      <td>Kombi</td>\n",
       "      <td>Uygun</td>\n",
       "      <td>Ara Kat</td>\n",
       "      <td>2.0</td>\n",
       "      <td>Çankaya</td>\n",
       "      <td>925828.0</td>\n",
       "      <td>Lisans</td>\n",
       "      <td>0.70</td>\n",
       "      <td>1.0</td>\n",
       "    </tr>\n",
       "  </tbody>\n",
       "</table>\n",
       "</div>"
      ],
      "text/plain": [
       "   Sütun1      id     fiyat  oda_salon_sayisi  net_m2  bina_yasi  \\\n",
       "0    2612  2612.0  275000.0               4.0   120.0       12.0   \n",
       "1    4819  4819.0  700000.0               3.0    88.0        0.0   \n",
       "2     149   149.0  980000.0               5.0   230.0       30.0   \n",
       "3    3628  3628.0  385000.0               4.0   120.0       22.0   \n",
       "4    3936  3936.0  700000.0               5.0   150.0        0.0   \n",
       "\n",
       "         isinma_tipi krediye_uygunluk bulundugu_kat  banyo_sayisi      ilce  \\\n",
       "0              Kombi            Uygun        1. Kat           1.0   Çankaya   \n",
       "1  Merkezi(PayÖlçer)            Uygun        1. Kat           1.0   Çankaya   \n",
       "2              Kombi            Uygun        3. Kat           2.0   Çankaya   \n",
       "3              Kombi            Uygun        2. Kat           1.0  Keçiören   \n",
       "4              Kombi            Uygun       Ara Kat           2.0   Çankaya   \n",
       "\n",
       "      nüfus  Egitim  okuma_yazma_bilmeyen  Kredi_Uygunlugu  \n",
       "0  925828.0  Lisans                  0.70              1.0  \n",
       "1  925828.0  Lisans                  0.70              1.0  \n",
       "2  925828.0  Lisans                  0.70              1.0  \n",
       "3  938565.0    Lise                  1.43              1.0  \n",
       "4  925828.0  Lisans                  0.70              1.0  "
      ]
     },
     "execution_count": 26,
     "metadata": {},
     "output_type": "execute_result"
    }
   ],
   "source": [
    "print('Before Antalya is out')\n",
    "print( 'Number of Columns:', len( data.columns),'\\nNumber of Rows:',len(data['id']) ) \n",
    "data = data[ data['ilce'] != 'Antalya']  \n",
    "print('After Antalya is out')\n",
    "print( 'Number of Columns:', len( data.columns),'\\nNumber of Rows:',len(data['id']) ) \n",
    "data.head() \n"
   ]
  },
  {
   "cell_type": "markdown",
   "metadata": {},
   "source": [
    "Unique Value Check"
   ]
  },
  {
   "cell_type": "code",
   "execution_count": 27,
   "metadata": {},
   "outputs": [
    {
     "data": {
      "text/html": [
       "<div>\n",
       "<style scoped>\n",
       "    .dataframe tbody tr th:only-of-type {\n",
       "        vertical-align: middle;\n",
       "    }\n",
       "\n",
       "    .dataframe tbody tr th {\n",
       "        vertical-align: top;\n",
       "    }\n",
       "\n",
       "    .dataframe thead th {\n",
       "        text-align: right;\n",
       "    }\n",
       "</style>\n",
       "<table border=\"1\" class=\"dataframe\">\n",
       "  <thead>\n",
       "    <tr style=\"text-align: right;\">\n",
       "      <th></th>\n",
       "      <th>Sütun1</th>\n",
       "      <th>id</th>\n",
       "      <th>fiyat</th>\n",
       "      <th>oda_salon_sayisi</th>\n",
       "      <th>net_m2</th>\n",
       "      <th>bina_yasi</th>\n",
       "      <th>isinma_tipi</th>\n",
       "      <th>krediye_uygunluk</th>\n",
       "      <th>bulundugu_kat</th>\n",
       "      <th>banyo_sayisi</th>\n",
       "      <th>ilce</th>\n",
       "      <th>nüfus</th>\n",
       "      <th>Egitim</th>\n",
       "      <th>okuma_yazma_bilmeyen</th>\n",
       "      <th>Kredi_Uygunlugu</th>\n",
       "    </tr>\n",
       "  </thead>\n",
       "  <tbody>\n",
       "    <tr>\n",
       "      <th># of Unique Values</th>\n",
       "      <td>3893</td>\n",
       "      <td>3893</td>\n",
       "      <td>503</td>\n",
       "      <td>25</td>\n",
       "      <td>187</td>\n",
       "      <td>47</td>\n",
       "      <td>5</td>\n",
       "      <td>2</td>\n",
       "      <td>30</td>\n",
       "      <td>13</td>\n",
       "      <td>5</td>\n",
       "      <td>4</td>\n",
       "      <td>2</td>\n",
       "      <td>5</td>\n",
       "      <td>2</td>\n",
       "    </tr>\n",
       "  </tbody>\n",
       "</table>\n",
       "</div>"
      ],
      "text/plain": [
       "                    Sütun1    id  fiyat  oda_salon_sayisi  net_m2  bina_yasi  \\\n",
       "# of Unique Values    3893  3893    503                25     187         47   \n",
       "\n",
       "                    isinma_tipi  krediye_uygunluk  bulundugu_kat  \\\n",
       "# of Unique Values            5                 2             30   \n",
       "\n",
       "                    banyo_sayisi  ilce  nüfus  Egitim  okuma_yazma_bilmeyen  \\\n",
       "# of Unique Values            13     5      4       2                     5   \n",
       "\n",
       "                    Kredi_Uygunlugu  \n",
       "# of Unique Values                2  "
      ]
     },
     "execution_count": 27,
     "metadata": {},
     "output_type": "execute_result"
    }
   ],
   "source": [
    "Un_dict = {} \n",
    "for i in data:\n",
    "    Un_dict[i] =len( pd.unique(data[i]))\n",
    "Un_D = pd.DataFrame.from_dict(orient='index', data= Un_dict)\n",
    "Un_D = Un_D.T \n",
    "Un_D = Un_D.rename(index= {0:'# of Unique Values'}) \n",
    "Un_D "
   ]
  },
  {
   "cell_type": "code",
   "execution_count": 28,
   "metadata": {},
   "outputs": [
    {
     "name": "stdout",
     "output_type": "stream",
     "text": [
      "isinma_tipi : ['Kombi' 'Merkezi(PayÖlçer)' 'Merkezi' 'Kat Kaloriferi' 'Klima']\n",
      "krediye_uygunluk : ['Uygun' 'Uygun deðil']\n",
      "ilce : ['Çankaya' 'Keçiören' 'Sincan' 'Mamak' 'Cankaya']\n",
      "nüfus : [925828. 938565. 549108. 669465.]\n",
      "Egitim : ['Lisans' 'Lise']\n",
      "okuma_yazma_bilmeyen : [0.7  1.43 1.44 0.   1.9 ]\n",
      "Kredi_Uygunlugu : [ 1. nan]\n"
     ]
    }
   ],
   "source": [
    "for i in data:\n",
    "    un = pd.unique( data[i] ) \n",
    "    if len(un) <= 10: \n",
    "        print(i, ':', un ) "
   ]
  },
  {
   "cell_type": "markdown",
   "metadata": {},
   "source": [
    "### Plotting"
   ]
  },
  {
   "cell_type": "code",
   "execution_count": 29,
   "metadata": {},
   "outputs": [],
   "source": [
    "plot_show = 0 \n",
    "if plot_show ==1 :\n",
    "    fig, axes = plt.subplots(2, 3, figsize=(18, 10))\n",
    "\n",
    "    fig.suptitle('Stats by Count')\n",
    "\n",
    "    sns.boxplot(ax=axes[0, 0], data=data, x=cn[2])#, y='Attack')\n",
    "    sns.boxplot(ax=axes[0, 1], data=data, x=cn[3])#, y='Defense')\n",
    "    sns.boxplot(ax=axes[0, 2], data=data, x=cn[4])#, y='Speed')\n",
    "    sns.boxplot(ax=axes[1, 0], data=data, x=cn[5])#, y='Sp. Atk')\n",
    "    sns.boxplot(ax=axes[1, 1], data=data, x=cn[9])#, y='Sp. Def')\n",
    "    sns.boxplot(ax=axes[1, 2], data=data, x=cn[-1])#, y='HP')\n"
   ]
  },
  {
   "cell_type": "markdown",
   "metadata": {},
   "source": [
    "### Cevap 1\n",
    "- NaN, Outlier & Unique degerler incelendi. \n",
    "- Veri iclerindeki operasyon yapmaya uygun olmayan ama aslinda degerli veriler, kullanilacak formatlara cevrildi. \n",
    "\n",
    "    * Fiyat yapisinin icindeki E degerleri duzeltildi.\n",
    "    \n",
    "    * Okuma Yazma Bilmeyenler verisinin icindeki oranlar duzeltildi. \n",
    "    * Kredi uygun degildeki `g` duzeltildi & Uygun/Uygun Degil cevaplari binary sekilde yeni bir sutun olarak eklendi\n",
    "    * Ilce isimlerindeki problemler giderildi ve Antalya ili, veri setinden cikarildi. \n",
    "    * Lisans, LiSans; Lise, Lis3 gibi bozulmalar duzeltildi. \n",
    "    * Bulundugu kat sutunundaki veriler duzeiltildi. \n",
    "    Not: Verinin icerisinde 18. kat yoktu ama Cati kati var. \n",
    "    * Isinma tiplerindeki Merkezi ve Merkezi(PayOlcer), sadece Merkezi olarak birlestirildi. "
   ]
  },
  {
   "cell_type": "markdown",
   "metadata": {},
   "source": [
    "---\n",
    "### SORU 2: \n",
    "Verilen veri seti üzerinden iki tane sayısal veri belirleyin ve bu değişkenler arasındaki ilişkiyi inceleyin. İncelerken kullandığınız yöntemleri ve yorumları açıklayın. "
   ]
  },
  {
   "cell_type": "code",
   "execution_count": 30,
   "metadata": {},
   "outputs": [
    {
     "data": {
      "text/html": [
       "<div>\n",
       "<style scoped>\n",
       "    .dataframe tbody tr th:only-of-type {\n",
       "        vertical-align: middle;\n",
       "    }\n",
       "\n",
       "    .dataframe tbody tr th {\n",
       "        vertical-align: top;\n",
       "    }\n",
       "\n",
       "    .dataframe thead th {\n",
       "        text-align: right;\n",
       "    }\n",
       "</style>\n",
       "<table border=\"1\" class=\"dataframe\">\n",
       "  <thead>\n",
       "    <tr style=\"text-align: right;\">\n",
       "      <th></th>\n",
       "      <th>Sütun1</th>\n",
       "      <th>id</th>\n",
       "      <th>fiyat</th>\n",
       "      <th>oda_salon_sayisi</th>\n",
       "      <th>net_m2</th>\n",
       "      <th>bina_yasi</th>\n",
       "      <th>isinma_tipi</th>\n",
       "      <th>krediye_uygunluk</th>\n",
       "      <th>bulundugu_kat</th>\n",
       "      <th>banyo_sayisi</th>\n",
       "      <th>ilce</th>\n",
       "      <th>nüfus</th>\n",
       "      <th>Egitim</th>\n",
       "      <th>okuma_yazma_bilmeyen</th>\n",
       "      <th>Kredi_Uygunlugu</th>\n",
       "    </tr>\n",
       "  </thead>\n",
       "  <tbody>\n",
       "    <tr>\n",
       "      <th># of Unique Values</th>\n",
       "      <td>3893</td>\n",
       "      <td>3893</td>\n",
       "      <td>503</td>\n",
       "      <td>25</td>\n",
       "      <td>187</td>\n",
       "      <td>47</td>\n",
       "      <td>5</td>\n",
       "      <td>2</td>\n",
       "      <td>30</td>\n",
       "      <td>13</td>\n",
       "      <td>5</td>\n",
       "      <td>4</td>\n",
       "      <td>2</td>\n",
       "      <td>5</td>\n",
       "      <td>2</td>\n",
       "    </tr>\n",
       "    <tr>\n",
       "      <th># of NaN Values</th>\n",
       "      <td>0</td>\n",
       "      <td>0</td>\n",
       "      <td>0</td>\n",
       "      <td>0</td>\n",
       "      <td>0</td>\n",
       "      <td>0</td>\n",
       "      <td>0</td>\n",
       "      <td>0</td>\n",
       "      <td>0</td>\n",
       "      <td>0</td>\n",
       "      <td>0</td>\n",
       "      <td>0</td>\n",
       "      <td>0</td>\n",
       "      <td>0</td>\n",
       "      <td>73</td>\n",
       "    </tr>\n",
       "  </tbody>\n",
       "</table>\n",
       "</div>"
      ],
      "text/plain": [
       "                    Sütun1    id  fiyat  oda_salon_sayisi  net_m2  bina_yasi  \\\n",
       "# of Unique Values    3893  3893    503                25     187         47   \n",
       "# of NaN Values          0     0      0                 0       0          0   \n",
       "\n",
       "                    isinma_tipi  krediye_uygunluk  bulundugu_kat  \\\n",
       "# of Unique Values            5                 2             30   \n",
       "# of NaN Values               0                 0              0   \n",
       "\n",
       "                    banyo_sayisi  ilce  nüfus  Egitim  okuma_yazma_bilmeyen  \\\n",
       "# of Unique Values            13     5      4       2                     5   \n",
       "# of NaN Values                0     0      0       0                     0   \n",
       "\n",
       "                    Kredi_Uygunlugu  \n",
       "# of Unique Values                2  \n",
       "# of NaN Values                  73  "
      ]
     },
     "execution_count": 30,
     "metadata": {},
     "output_type": "execute_result"
    }
   ],
   "source": [
    "pd.concat( [Un_D ,N_check(data) ], axis = 0)  "
   ]
  },
  {
   "cell_type": "code",
   "execution_count": 31,
   "metadata": {},
   "outputs": [
    {
     "data": {
      "text/html": [
       "<div>\n",
       "<style scoped>\n",
       "    .dataframe tbody tr th:only-of-type {\n",
       "        vertical-align: middle;\n",
       "    }\n",
       "\n",
       "    .dataframe tbody tr th {\n",
       "        vertical-align: top;\n",
       "    }\n",
       "\n",
       "    .dataframe thead th {\n",
       "        text-align: right;\n",
       "    }\n",
       "</style>\n",
       "<table border=\"1\" class=\"dataframe\">\n",
       "  <thead>\n",
       "    <tr style=\"text-align: right;\">\n",
       "      <th></th>\n",
       "      <th>Sütun1</th>\n",
       "      <th>id</th>\n",
       "      <th>fiyat</th>\n",
       "      <th>oda_salon_sayisi</th>\n",
       "      <th>net_m2</th>\n",
       "      <th>bina_yasi</th>\n",
       "      <th>isinma_tipi</th>\n",
       "      <th>krediye_uygunluk</th>\n",
       "      <th>bulundugu_kat</th>\n",
       "      <th>banyo_sayisi</th>\n",
       "      <th>ilce</th>\n",
       "      <th>nüfus</th>\n",
       "      <th>Egitim</th>\n",
       "      <th>okuma_yazma_bilmeyen</th>\n",
       "      <th>Kredi_Uygunlugu</th>\n",
       "    </tr>\n",
       "  </thead>\n",
       "  <tbody>\n",
       "    <tr>\n",
       "      <th>0</th>\n",
       "      <td>2612</td>\n",
       "      <td>2612.0</td>\n",
       "      <td>275000.0</td>\n",
       "      <td>4.0</td>\n",
       "      <td>120.0</td>\n",
       "      <td>12.0</td>\n",
       "      <td>Kombi</td>\n",
       "      <td>Uygun</td>\n",
       "      <td>1. Kat</td>\n",
       "      <td>1.0</td>\n",
       "      <td>Çankaya</td>\n",
       "      <td>925828.0</td>\n",
       "      <td>Lisans</td>\n",
       "      <td>0.70</td>\n",
       "      <td>1.0</td>\n",
       "    </tr>\n",
       "    <tr>\n",
       "      <th>1</th>\n",
       "      <td>4819</td>\n",
       "      <td>4819.0</td>\n",
       "      <td>700000.0</td>\n",
       "      <td>3.0</td>\n",
       "      <td>88.0</td>\n",
       "      <td>0.0</td>\n",
       "      <td>Merkezi(PayÖlçer)</td>\n",
       "      <td>Uygun</td>\n",
       "      <td>1. Kat</td>\n",
       "      <td>1.0</td>\n",
       "      <td>Çankaya</td>\n",
       "      <td>925828.0</td>\n",
       "      <td>Lisans</td>\n",
       "      <td>0.70</td>\n",
       "      <td>1.0</td>\n",
       "    </tr>\n",
       "    <tr>\n",
       "      <th>2</th>\n",
       "      <td>149</td>\n",
       "      <td>149.0</td>\n",
       "      <td>980000.0</td>\n",
       "      <td>5.0</td>\n",
       "      <td>230.0</td>\n",
       "      <td>30.0</td>\n",
       "      <td>Kombi</td>\n",
       "      <td>Uygun</td>\n",
       "      <td>3. Kat</td>\n",
       "      <td>2.0</td>\n",
       "      <td>Çankaya</td>\n",
       "      <td>925828.0</td>\n",
       "      <td>Lisans</td>\n",
       "      <td>0.70</td>\n",
       "      <td>1.0</td>\n",
       "    </tr>\n",
       "    <tr>\n",
       "      <th>3</th>\n",
       "      <td>3628</td>\n",
       "      <td>3628.0</td>\n",
       "      <td>385000.0</td>\n",
       "      <td>4.0</td>\n",
       "      <td>120.0</td>\n",
       "      <td>22.0</td>\n",
       "      <td>Kombi</td>\n",
       "      <td>Uygun</td>\n",
       "      <td>2. Kat</td>\n",
       "      <td>1.0</td>\n",
       "      <td>Keçiören</td>\n",
       "      <td>938565.0</td>\n",
       "      <td>Lise</td>\n",
       "      <td>1.43</td>\n",
       "      <td>1.0</td>\n",
       "    </tr>\n",
       "    <tr>\n",
       "      <th>4</th>\n",
       "      <td>3936</td>\n",
       "      <td>3936.0</td>\n",
       "      <td>700000.0</td>\n",
       "      <td>5.0</td>\n",
       "      <td>150.0</td>\n",
       "      <td>0.0</td>\n",
       "      <td>Kombi</td>\n",
       "      <td>Uygun</td>\n",
       "      <td>Ara Kat</td>\n",
       "      <td>2.0</td>\n",
       "      <td>Çankaya</td>\n",
       "      <td>925828.0</td>\n",
       "      <td>Lisans</td>\n",
       "      <td>0.70</td>\n",
       "      <td>1.0</td>\n",
       "    </tr>\n",
       "  </tbody>\n",
       "</table>\n",
       "</div>"
      ],
      "text/plain": [
       "   Sütun1      id     fiyat  oda_salon_sayisi  net_m2  bina_yasi  \\\n",
       "0    2612  2612.0  275000.0               4.0   120.0       12.0   \n",
       "1    4819  4819.0  700000.0               3.0    88.0        0.0   \n",
       "2     149   149.0  980000.0               5.0   230.0       30.0   \n",
       "3    3628  3628.0  385000.0               4.0   120.0       22.0   \n",
       "4    3936  3936.0  700000.0               5.0   150.0        0.0   \n",
       "\n",
       "         isinma_tipi krediye_uygunluk bulundugu_kat  banyo_sayisi      ilce  \\\n",
       "0              Kombi            Uygun        1. Kat           1.0   Çankaya   \n",
       "1  Merkezi(PayÖlçer)            Uygun        1. Kat           1.0   Çankaya   \n",
       "2              Kombi            Uygun        3. Kat           2.0   Çankaya   \n",
       "3              Kombi            Uygun        2. Kat           1.0  Keçiören   \n",
       "4              Kombi            Uygun       Ara Kat           2.0   Çankaya   \n",
       "\n",
       "      nüfus  Egitim  okuma_yazma_bilmeyen  Kredi_Uygunlugu  \n",
       "0  925828.0  Lisans                  0.70              1.0  \n",
       "1  925828.0  Lisans                  0.70              1.0  \n",
       "2  925828.0  Lisans                  0.70              1.0  \n",
       "3  938565.0    Lise                  1.43              1.0  \n",
       "4  925828.0  Lisans                  0.70              1.0  "
      ]
     },
     "execution_count": 31,
     "metadata": {},
     "output_type": "execute_result"
    }
   ],
   "source": [
    "data.head() "
   ]
  },
  {
   "cell_type": "code",
   "execution_count": 32,
   "metadata": {},
   "outputs": [],
   "source": [
    "plot_show = 0\n",
    "if plot_show ==1 :\n",
    "    sns.pairplot(data, hue='ilce', size=2.5)"
   ]
  },
  {
   "cell_type": "code",
   "execution_count": 33,
   "metadata": {},
   "outputs": [
    {
     "data": {
      "text/plain": [
       "<AxesSubplot:xlabel='fiyat', ylabel='Count'>"
      ]
     },
     "execution_count": 33,
     "metadata": {},
     "output_type": "execute_result"
    },
    {
     "data": {
      "image/png": "[encoded data removed]",
      "text/plain": [
       "<Figure size 432x288 with 1 Axes>"
      ]
     },
     "metadata": {
      "needs_background": "light"
     },
     "output_type": "display_data"
    }
   ],
   "source": [
    "sns.histplot( data=  data, bins= 100,  x = \"fiyat\", legend=True, multiple = 'layer' )    "
   ]
  },
  {
   "cell_type": "code",
   "execution_count": 34,
   "metadata": {},
   "outputs": [],
   "source": [
    "subsample = data[data['fiyat'] < data['fiyat'].quantile(0.95) ] "
   ]
  },
  {
   "cell_type": "code",
   "execution_count": 35,
   "metadata": {},
   "outputs": [
    {
     "data": {
      "text/plain": [
       "<AxesSubplot:xlabel='fiyat', ylabel='Count'>"
      ]
     },
     "execution_count": 35,
     "metadata": {},
     "output_type": "execute_result"
    },
    {
     "data": {
      "image/png": "[encoded data removed]",
      "text/plain": [
       "<Figure size 432x288 with 1 Axes>"
      ]
     },
     "metadata": {
      "needs_background": "light"
     },
     "output_type": "display_data"
    }
   ],
   "source": [
    "sns.histplot( data=  subsample, bins= 100,  x = \"fiyat\", legend=True, multiple = 'layer' )    "
   ]
  },
  {
   "cell_type": "code",
   "execution_count": 36,
   "metadata": {},
   "outputs": [
    {
     "name": "stderr",
     "output_type": "stream",
     "text": [
      "C:\\Users\\Asus\\AppData\\Local\\Temp\\ipykernel_4880\\214053829.py:5: SettingWithCopyWarning: \n",
      "A value is trying to be set on a copy of a slice from a DataFrame.\n",
      "Try using .loc[row_indexer,col_indexer] = value instead\n",
      "\n",
      "See the caveats in the documentation: https://pandas.pydata.org/pandas-docs/stable/user_guide/indexing.html#returning-a-view-versus-a-copy\n",
      "  subsample.loc[ (subsample['fiyat']<= q1), \"fiyat group\" ] = hoa[0]\n"
     ]
    }
   ],
   "source": [
    "hoa = ['Q1','Q2'  ,'Q3','Q4'  ] \n",
    "q1 = subsample['fiyat'].quantile(0.25)  \n",
    "q2 = subsample['fiyat'].quantile(0.5) \n",
    "q3 = subsample['fiyat'].quantile(0.75)  \n",
    "subsample.loc[ (subsample['fiyat']<= q1), \"fiyat group\" ] = hoa[0] \n",
    "subsample.loc[ (subsample['fiyat']> q1) & (subsample['fiyat']<=q2 ) , \"fiyat group\" ] = hoa[1] \n",
    "subsample.loc[ (subsample['fiyat']> q2) & (subsample['fiyat']<=q3) , \"fiyat group\" ] = hoa[2]\n",
    "subsample.loc[ (subsample['fiyat']> q3), \"fiyat group\" ] = hoa[3]"
   ]
  },
  {
   "cell_type": "code",
   "execution_count": 37,
   "metadata": {},
   "outputs": [
    {
     "data": {
      "text/plain": [
       "<AxesSubplot:xlabel='net_m2', ylabel='Count'>"
      ]
     },
     "execution_count": 37,
     "metadata": {},
     "output_type": "execute_result"
    },
    {
     "data": {
      "image/png": "[encoded data removed]",
      "text/plain": [
       "<Figure size 432x288 with 1 Axes>"
      ]
     },
     "metadata": {
      "needs_background": "light"
     },
     "output_type": "display_data"
    }
   ],
   "source": [
    "sns.histplot( data=  subsample, bins= 100,  x = \"net_m2\", legend=True, multiple = 'layer' )    "
   ]
  },
  {
   "cell_type": "code",
   "execution_count": 38,
   "metadata": {},
   "outputs": [
    {
     "data": {
      "text/plain": [
       "<AxesSubplot:xlabel='net_m2', ylabel='Count'>"
      ]
     },
     "execution_count": 38,
     "metadata": {},
     "output_type": "execute_result"
    },
    {
     "data": {
      "image/png": "[encoded data removed]",
      "text/plain": [
       "<Figure size 432x288 with 1 Axes>"
      ]
     },
     "metadata": {
      "needs_background": "light"
     },
     "output_type": "display_data"
    }
   ],
   "source": [
    "subsample = subsample[subsample['net_m2'] < subsample['net_m2'].quantile(0.95) ] \n",
    "subsample = subsample[subsample['net_m2'] > subsample['net_m2'].quantile(0.05) ] \n",
    "sns.histplot( data=  subsample, bins= 100,  x = \"net_m2\", legend=True, multiple = 'layer' )    "
   ]
  },
  {
   "cell_type": "code",
   "execution_count": 39,
   "metadata": {},
   "outputs": [],
   "source": [
    "hoa = ['Q1','Q2'  ,'Q3','Q4'  ] \n",
    "q1 = subsample['net_m2'].quantile(0.25)  \n",
    "q2 = subsample['net_m2'].quantile(0.5) \n",
    "q3 = subsample['net_m2'].quantile(0.75)  \n",
    "subsample.loc[ (subsample['net_m2']<= q1), \"net_m2 group\" ] = hoa[0] \n",
    "subsample.loc[ (subsample['net_m2']> q1) & (subsample['net_m2']<=q2 ) , \"net_m2 group\" ] = hoa[1] \n",
    "subsample.loc[ (subsample['net_m2']> q2) & (subsample['net_m2']<=q3) , \"net_m2 group\" ] = hoa[2]\n",
    "subsample.loc[ (subsample['net_m2']> q3), \"net_m2 group\" ] = hoa[3]"
   ]
  },
  {
   "cell_type": "code",
   "execution_count": 40,
   "metadata": {},
   "outputs": [
    {
     "data": {
      "text/plain": [
       "<seaborn.axisgrid.FacetGrid at 0x15b247c2860>"
      ]
     },
     "execution_count": 40,
     "metadata": {},
     "output_type": "execute_result"
    },
    {
     "data": {
      "image/png": "[encoded data removed]",
      "text/plain": [
       "<Figure size 811.175x288 with 1 Axes>"
      ]
     },
     "metadata": {
      "needs_background": "light"
     },
     "output_type": "display_data"
    }
   ],
   "source": [
    "sns.catplot(x=\"net_m2 group\", y=\"fiyat\",\n",
    "\n",
    "                hue=\"fiyat group\", hue_order = hoa,\n",
    "                #col=\"fiyat group\",\n",
    "\n",
    "                data=subsample, kind=\"bar\",\n",
    "\n",
    "                height=4, aspect=2.6,saturation=.5 ) "
   ]
  },
  {
   "cell_type": "markdown",
   "metadata": {},
   "source": [
    "Cevap 2:\n",
    "\n",
    "Operasyonlar:\n",
    "\n",
    "    * Pairplot uygulandi ve birbirleriyle en cok alakali olabilecek degiskenler grafige dokuldu. \n",
    "\n",
    "    * Fiyat ve metre kare arasinda bir baglanti icin, quantile`lar kullanilarak bu ikisinde outlier temizlemesi yapildi. \n",
    "\n",
    "Sonuc: \n",
    "\n",
    "    Her metre kare grubunda, evler kendi incde benzer sekilde dagilmis gozukmekte. Bu da evlerin asagi yukari ayni metre karelere sahip olsalar bile, kendi icinde henuz incelenmemis ozelliklere gore degerlenebildigine isaret ediyor. "
   ]
  },
  {
   "cell_type": "markdown",
   "metadata": {},
   "source": [
    "---\n",
    "### Soru 3 \n",
    "Verilen ilçelere göre kaç tane merkezi ısınmaya sahip 2.kat ve üzeri katlarda bulunan evler vardır? Grafik üzerinde gösteriniz. Grafiğinizi oluştururken yaptığınız operasyonları açıklayın."
   ]
  },
  {
   "cell_type": "code",
   "execution_count": 41,
   "metadata": {},
   "outputs": [
    {
     "name": "stdout",
     "output_type": "stream",
     "text": [
      "Number of Columns: 15 \n",
      "Number of Rows: 4142\n"
     ]
    },
    {
     "data": {
      "text/html": [
       "<div>\n",
       "<style scoped>\n",
       "    .dataframe tbody tr th:only-of-type {\n",
       "        vertical-align: middle;\n",
       "    }\n",
       "\n",
       "    .dataframe tbody tr th {\n",
       "        vertical-align: top;\n",
       "    }\n",
       "\n",
       "    .dataframe thead th {\n",
       "        text-align: right;\n",
       "    }\n",
       "</style>\n",
       "<table border=\"1\" class=\"dataframe\">\n",
       "  <thead>\n",
       "    <tr style=\"text-align: right;\">\n",
       "      <th></th>\n",
       "      <th>Sütun1</th>\n",
       "      <th>id</th>\n",
       "      <th>fiyat</th>\n",
       "      <th>oda_salon_sayisi</th>\n",
       "      <th>net_m2</th>\n",
       "      <th>bina_yasi</th>\n",
       "      <th>isinma_tipi</th>\n",
       "      <th>krediye_uygunluk</th>\n",
       "      <th>bulundugu_kat</th>\n",
       "      <th>banyo_sayisi</th>\n",
       "      <th>ilce</th>\n",
       "      <th>nüfus</th>\n",
       "      <th>Egitim</th>\n",
       "      <th>okuma_yazma_bilmeyen</th>\n",
       "      <th>Kredi_Uygunlugu</th>\n",
       "    </tr>\n",
       "  </thead>\n",
       "  <tbody>\n",
       "    <tr>\n",
       "      <th>0</th>\n",
       "      <td>2612</td>\n",
       "      <td>2612.0</td>\n",
       "      <td>275000.0</td>\n",
       "      <td>4.0</td>\n",
       "      <td>120.0</td>\n",
       "      <td>12.0</td>\n",
       "      <td>Kombi</td>\n",
       "      <td>Uygun</td>\n",
       "      <td>1. Kat</td>\n",
       "      <td>1.0</td>\n",
       "      <td>Çankaya</td>\n",
       "      <td>925828.0</td>\n",
       "      <td>Lisans</td>\n",
       "      <td>0.70</td>\n",
       "      <td>1.0</td>\n",
       "    </tr>\n",
       "    <tr>\n",
       "      <th>1</th>\n",
       "      <td>4819</td>\n",
       "      <td>4819.0</td>\n",
       "      <td>700000.0</td>\n",
       "      <td>3.0</td>\n",
       "      <td>88.0</td>\n",
       "      <td>0.0</td>\n",
       "      <td>Merkezi(PayÖlçer)</td>\n",
       "      <td>Uygun</td>\n",
       "      <td>1. Kat</td>\n",
       "      <td>1.0</td>\n",
       "      <td>Çankaya</td>\n",
       "      <td>925828.0</td>\n",
       "      <td>Lisans</td>\n",
       "      <td>0.70</td>\n",
       "      <td>1.0</td>\n",
       "    </tr>\n",
       "    <tr>\n",
       "      <th>2</th>\n",
       "      <td>149</td>\n",
       "      <td>149.0</td>\n",
       "      <td>980000.0</td>\n",
       "      <td>5.0</td>\n",
       "      <td>230.0</td>\n",
       "      <td>30.0</td>\n",
       "      <td>Kombi</td>\n",
       "      <td>Uygun</td>\n",
       "      <td>3. Kat</td>\n",
       "      <td>2.0</td>\n",
       "      <td>Çankaya</td>\n",
       "      <td>925828.0</td>\n",
       "      <td>Lisans</td>\n",
       "      <td>0.70</td>\n",
       "      <td>1.0</td>\n",
       "    </tr>\n",
       "    <tr>\n",
       "      <th>3</th>\n",
       "      <td>3628</td>\n",
       "      <td>3628.0</td>\n",
       "      <td>385000.0</td>\n",
       "      <td>4.0</td>\n",
       "      <td>120.0</td>\n",
       "      <td>22.0</td>\n",
       "      <td>Kombi</td>\n",
       "      <td>Uygun</td>\n",
       "      <td>2. Kat</td>\n",
       "      <td>1.0</td>\n",
       "      <td>Keçiören</td>\n",
       "      <td>938565.0</td>\n",
       "      <td>Lise</td>\n",
       "      <td>1.43</td>\n",
       "      <td>1.0</td>\n",
       "    </tr>\n",
       "    <tr>\n",
       "      <th>4</th>\n",
       "      <td>3936</td>\n",
       "      <td>3936.0</td>\n",
       "      <td>700000.0</td>\n",
       "      <td>5.0</td>\n",
       "      <td>150.0</td>\n",
       "      <td>0.0</td>\n",
       "      <td>Kombi</td>\n",
       "      <td>Uygun</td>\n",
       "      <td>Ara Kat</td>\n",
       "      <td>2.0</td>\n",
       "      <td>Çankaya</td>\n",
       "      <td>925828.0</td>\n",
       "      <td>Lisans</td>\n",
       "      <td>0.70</td>\n",
       "      <td>1.0</td>\n",
       "    </tr>\n",
       "  </tbody>\n",
       "</table>\n",
       "</div>"
      ],
      "text/plain": [
       "   Sütun1      id     fiyat  oda_salon_sayisi  net_m2  bina_yasi  \\\n",
       "0    2612  2612.0  275000.0               4.0   120.0       12.0   \n",
       "1    4819  4819.0  700000.0               3.0    88.0        0.0   \n",
       "2     149   149.0  980000.0               5.0   230.0       30.0   \n",
       "3    3628  3628.0  385000.0               4.0   120.0       22.0   \n",
       "4    3936  3936.0  700000.0               5.0   150.0        0.0   \n",
       "\n",
       "         isinma_tipi krediye_uygunluk bulundugu_kat  banyo_sayisi      ilce  \\\n",
       "0              Kombi            Uygun        1. Kat           1.0   Çankaya   \n",
       "1  Merkezi(PayÖlçer)            Uygun        1. Kat           1.0   Çankaya   \n",
       "2              Kombi            Uygun        3. Kat           2.0   Çankaya   \n",
       "3              Kombi            Uygun        2. Kat           1.0  Keçiören   \n",
       "4              Kombi            Uygun       Ara Kat           2.0   Çankaya   \n",
       "\n",
       "      nüfus  Egitim  okuma_yazma_bilmeyen  Kredi_Uygunlugu  \n",
       "0  925828.0  Lisans                  0.70              1.0  \n",
       "1  925828.0  Lisans                  0.70              1.0  \n",
       "2  925828.0  Lisans                  0.70              1.0  \n",
       "3  938565.0    Lise                  1.43              1.0  \n",
       "4  925828.0  Lisans                  0.70              1.0  "
      ]
     },
     "execution_count": 41,
     "metadata": {},
     "output_type": "execute_result"
    }
   ],
   "source": [
    "print( 'Number of Columns:', len( data.columns),'\\nNumber of Rows:',len(data['id']) ) \n",
    "\n",
    "subdata = data.copy()\n",
    "subdata.head() "
   ]
  },
  {
   "cell_type": "code",
   "execution_count": 42,
   "metadata": {},
   "outputs": [
    {
     "data": {
      "text/plain": [
       "array(['1. Kat', '3. Kat', '2. Kat', 'Ara Kat', 'Bahçe Katý',\n",
       "       'Teras Kati', 'Giris Kati', '4. Kat', 'En Ust Kat', '9. Kat',\n",
       "       '5. Kat', '6. Kat', '7. Kat', '21 Ve Uzeri', '13. Kat', 'Zemin',\n",
       "       '12. Kat', '14. Kat', '11. Kat', '15. Kat', '20. Kat', 'Kot 3',\n",
       "       '8. Kat', '17. Kat', 'Çatý Katý', '16. Kat', '10. Kat', '19. Kat',\n",
       "       'Bodrum', 'Villa Kati'], dtype=object)"
      ]
     },
     "execution_count": 42,
     "metadata": {},
     "output_type": "execute_result"
    }
   ],
   "source": [
    "pd.unique(data['bulundugu_kat'])"
   ]
  },
  {
   "cell_type": "code",
   "execution_count": 43,
   "metadata": {},
   "outputs": [],
   "source": [
    "Ikinci_Kattan_Dusuk_Yerler = ['Ara Kat','Zemin','1. Kat','Giris Kati','Bahce Kati','Bodrum']  "
   ]
  },
  {
   "cell_type": "code",
   "execution_count": 44,
   "metadata": {},
   "outputs": [],
   "source": [
    "Temp =[] \n",
    "for i,j in enumerate( subdata['bulundugu_kat'] ): \n",
    "    if j in Ikinci_Kattan_Dusuk_Yerler:\n",
    "        j = 0\n",
    "        Temp.append( j ) \n",
    "    else:\n",
    "        j = 2\n",
    "        Temp.append(j) \n",
    "subdata['bulundugu_kat'] = Temp  "
   ]
  },
  {
   "cell_type": "code",
   "execution_count": 45,
   "metadata": {},
   "outputs": [],
   "source": [
    "Looking_For = subdata[ (subdata['isinma_tipi'] == 'Merkezi' ) & ( subdata['bulundugu_kat'] != 0)   ] "
   ]
  },
  {
   "cell_type": "code",
   "execution_count": 46,
   "metadata": {},
   "outputs": [
    {
     "data": {
      "text/plain": [
       "<AxesSubplot:xlabel='ilce', ylabel='Count'>"
      ]
     },
     "execution_count": 46,
     "metadata": {},
     "output_type": "execute_result"
    },
    {
     "data": {
      "image/png": "[encoded data removed]",
      "text/plain": [
       "<Figure size 432x288 with 1 Axes>"
      ]
     },
     "metadata": {
      "needs_background": "light"
     },
     "output_type": "display_data"
    }
   ],
   "source": [
    "sns.histplot( data=  Looking_For, bins= 100,  x = \"ilce\", legend=True, multiple = 'layer' )    "
   ]
  },
  {
   "cell_type": "code",
   "execution_count": 47,
   "metadata": {},
   "outputs": [
    {
     "data": {
      "text/plain": [
       "<AxesSubplot:xlabel='ilce', ylabel='Count'>"
      ]
     },
     "execution_count": 47,
     "metadata": {},
     "output_type": "execute_result"
    },
    {
     "data": {
      "image/png": "[encoded data removed]",
      "text/plain": [
       "<Figure size 432x288 with 1 Axes>"
      ]
     },
     "metadata": {
      "needs_background": "light"
     },
     "output_type": "display_data"
    }
   ],
   "source": [
    "sns.histplot( data=  subdata, bins= 100,  x = \"ilce\", legend=True, multiple = 'layer' )    "
   ]
  },
  {
   "cell_type": "markdown",
   "metadata": {},
   "source": [
    "### Cevap 3 \n",
    "Operasyonlar: \n",
    "    \n",
    "    * Orijinal veri, yeni bir deney degiskenine kopyalandi. \n",
    "\n",
    "    * Catplot icin mevcut isinma tipleri siralandi ve bir baska degiskene aktarildi.\n",
    "\n",
    "Aciklama: \n",
    "\n",
    "    * Merkezi ısınmaya sahip 2.kat ve üzeri katlarda bulunan ev sayisi: 436\n",
    "\n",
    "    * Genelde, ilce dagilimi, isitma tipindan bagimsiz gozukmektedir. "
   ]
  },
  {
   "cell_type": "markdown",
   "metadata": {},
   "source": [
    "---\n",
    "### SORU 4: \n",
    "Eğitim düzeyi lisans olanların oranının yüksek olduğu ve fiyatı 5000’den az olan bir evde oturmak isteyen biri hangi ilçedeki evlere bakmalıdır? Grafik çıkartarak, çıkarımlarınızı yazılı olarak ifade edin ve grafiğinizi oluştururken yaptığınız operasyonları açıklayın."
   ]
  },
  {
   "cell_type": "code",
   "execution_count": 48,
   "metadata": {},
   "outputs": [
    {
     "name": "stdout",
     "output_type": "stream",
     "text": [
      "Number of Columns: 15 \n",
      "Number of Rows: 4142\n"
     ]
    },
    {
     "data": {
      "text/html": [
       "<div>\n",
       "<style scoped>\n",
       "    .dataframe tbody tr th:only-of-type {\n",
       "        vertical-align: middle;\n",
       "    }\n",
       "\n",
       "    .dataframe tbody tr th {\n",
       "        vertical-align: top;\n",
       "    }\n",
       "\n",
       "    .dataframe thead th {\n",
       "        text-align: right;\n",
       "    }\n",
       "</style>\n",
       "<table border=\"1\" class=\"dataframe\">\n",
       "  <thead>\n",
       "    <tr style=\"text-align: right;\">\n",
       "      <th></th>\n",
       "      <th>Sütun1</th>\n",
       "      <th>id</th>\n",
       "      <th>fiyat</th>\n",
       "      <th>oda_salon_sayisi</th>\n",
       "      <th>net_m2</th>\n",
       "      <th>bina_yasi</th>\n",
       "      <th>isinma_tipi</th>\n",
       "      <th>krediye_uygunluk</th>\n",
       "      <th>bulundugu_kat</th>\n",
       "      <th>banyo_sayisi</th>\n",
       "      <th>ilce</th>\n",
       "      <th>nüfus</th>\n",
       "      <th>Egitim</th>\n",
       "      <th>okuma_yazma_bilmeyen</th>\n",
       "      <th>Kredi_Uygunlugu</th>\n",
       "    </tr>\n",
       "  </thead>\n",
       "  <tbody>\n",
       "    <tr>\n",
       "      <th>0</th>\n",
       "      <td>2612</td>\n",
       "      <td>2612.0</td>\n",
       "      <td>275000.0</td>\n",
       "      <td>4.0</td>\n",
       "      <td>120.0</td>\n",
       "      <td>12.0</td>\n",
       "      <td>Kombi</td>\n",
       "      <td>Uygun</td>\n",
       "      <td>1. Kat</td>\n",
       "      <td>1.0</td>\n",
       "      <td>Çankaya</td>\n",
       "      <td>925828.0</td>\n",
       "      <td>Lisans</td>\n",
       "      <td>0.70</td>\n",
       "      <td>1.0</td>\n",
       "    </tr>\n",
       "    <tr>\n",
       "      <th>1</th>\n",
       "      <td>4819</td>\n",
       "      <td>4819.0</td>\n",
       "      <td>700000.0</td>\n",
       "      <td>3.0</td>\n",
       "      <td>88.0</td>\n",
       "      <td>0.0</td>\n",
       "      <td>Merkezi(PayÖlçer)</td>\n",
       "      <td>Uygun</td>\n",
       "      <td>1. Kat</td>\n",
       "      <td>1.0</td>\n",
       "      <td>Çankaya</td>\n",
       "      <td>925828.0</td>\n",
       "      <td>Lisans</td>\n",
       "      <td>0.70</td>\n",
       "      <td>1.0</td>\n",
       "    </tr>\n",
       "    <tr>\n",
       "      <th>2</th>\n",
       "      <td>149</td>\n",
       "      <td>149.0</td>\n",
       "      <td>980000.0</td>\n",
       "      <td>5.0</td>\n",
       "      <td>230.0</td>\n",
       "      <td>30.0</td>\n",
       "      <td>Kombi</td>\n",
       "      <td>Uygun</td>\n",
       "      <td>3. Kat</td>\n",
       "      <td>2.0</td>\n",
       "      <td>Çankaya</td>\n",
       "      <td>925828.0</td>\n",
       "      <td>Lisans</td>\n",
       "      <td>0.70</td>\n",
       "      <td>1.0</td>\n",
       "    </tr>\n",
       "    <tr>\n",
       "      <th>3</th>\n",
       "      <td>3628</td>\n",
       "      <td>3628.0</td>\n",
       "      <td>385000.0</td>\n",
       "      <td>4.0</td>\n",
       "      <td>120.0</td>\n",
       "      <td>22.0</td>\n",
       "      <td>Kombi</td>\n",
       "      <td>Uygun</td>\n",
       "      <td>2. Kat</td>\n",
       "      <td>1.0</td>\n",
       "      <td>Keçiören</td>\n",
       "      <td>938565.0</td>\n",
       "      <td>Lise</td>\n",
       "      <td>1.43</td>\n",
       "      <td>1.0</td>\n",
       "    </tr>\n",
       "    <tr>\n",
       "      <th>4</th>\n",
       "      <td>3936</td>\n",
       "      <td>3936.0</td>\n",
       "      <td>700000.0</td>\n",
       "      <td>5.0</td>\n",
       "      <td>150.0</td>\n",
       "      <td>0.0</td>\n",
       "      <td>Kombi</td>\n",
       "      <td>Uygun</td>\n",
       "      <td>Ara Kat</td>\n",
       "      <td>2.0</td>\n",
       "      <td>Çankaya</td>\n",
       "      <td>925828.0</td>\n",
       "      <td>Lisans</td>\n",
       "      <td>0.70</td>\n",
       "      <td>1.0</td>\n",
       "    </tr>\n",
       "  </tbody>\n",
       "</table>\n",
       "</div>"
      ],
      "text/plain": [
       "   Sütun1      id     fiyat  oda_salon_sayisi  net_m2  bina_yasi  \\\n",
       "0    2612  2612.0  275000.0               4.0   120.0       12.0   \n",
       "1    4819  4819.0  700000.0               3.0    88.0        0.0   \n",
       "2     149   149.0  980000.0               5.0   230.0       30.0   \n",
       "3    3628  3628.0  385000.0               4.0   120.0       22.0   \n",
       "4    3936  3936.0  700000.0               5.0   150.0        0.0   \n",
       "\n",
       "         isinma_tipi krediye_uygunluk bulundugu_kat  banyo_sayisi      ilce  \\\n",
       "0              Kombi            Uygun        1. Kat           1.0   Çankaya   \n",
       "1  Merkezi(PayÖlçer)            Uygun        1. Kat           1.0   Çankaya   \n",
       "2              Kombi            Uygun        3. Kat           2.0   Çankaya   \n",
       "3              Kombi            Uygun        2. Kat           1.0  Keçiören   \n",
       "4              Kombi            Uygun       Ara Kat           2.0   Çankaya   \n",
       "\n",
       "      nüfus  Egitim  okuma_yazma_bilmeyen  Kredi_Uygunlugu  \n",
       "0  925828.0  Lisans                  0.70              1.0  \n",
       "1  925828.0  Lisans                  0.70              1.0  \n",
       "2  925828.0  Lisans                  0.70              1.0  \n",
       "3  938565.0    Lise                  1.43              1.0  \n",
       "4  925828.0  Lisans                  0.70              1.0  "
      ]
     },
     "execution_count": 48,
     "metadata": {},
     "output_type": "execute_result"
    }
   ],
   "source": [
    "print( 'Number of Columns:', len( data.columns),'\\nNumber of Rows:',len(data['id']) ) \n",
    "\n",
    "subdata = data.copy()\n",
    "subdata.head() "
   ]
  },
  {
   "cell_type": "code",
   "execution_count": 49,
   "metadata": {},
   "outputs": [
    {
     "data": {
      "text/plain": [
       "array(['Lisans', 'Lise'], dtype=object)"
      ]
     },
     "execution_count": 49,
     "metadata": {},
     "output_type": "execute_result"
    }
   ],
   "source": [
    "pd.unique(subdata['Egitim'])"
   ]
  },
  {
   "cell_type": "code",
   "execution_count": 50,
   "metadata": {},
   "outputs": [
    {
     "name": "stdout",
     "output_type": "stream",
     "text": [
      "Number of Columns: 15 \n",
      "Number of Rows: 2372\n"
     ]
    }
   ],
   "source": [
    "subdata = subdata[subdata['Egitim'] == \"Lise\"]  \n",
    "print( 'Number of Columns:', len( subdata.columns),'\\nNumber of Rows:',len(subdata['id']) ) "
   ]
  },
  {
   "cell_type": "code",
   "execution_count": 51,
   "metadata": {},
   "outputs": [
    {
     "name": "stdout",
     "output_type": "stream",
     "text": [
      "Number of Columns: 15 \n",
      "Number of Rows: 12\n"
     ]
    }
   ],
   "source": [
    "subdata = subdata[subdata['fiyat'] < 5000 ]  \n",
    "print( 'Number of Columns:', len( subdata.columns),'\\nNumber of Rows:',len(subdata['id']) ) "
   ]
  },
  {
   "cell_type": "code",
   "execution_count": 52,
   "metadata": {},
   "outputs": [],
   "source": [
    "subdata.reset_index(inplace = True) \n",
    "subdata.set_index('index') \n",
    "subdata = subdata.iloc[:,1:] "
   ]
  },
  {
   "cell_type": "code",
   "execution_count": 53,
   "metadata": {},
   "outputs": [
    {
     "name": "stdout",
     "output_type": "stream",
     "text": [
      "5000`den asagida, Lisans duzeyindeki evler: ['Keçiören' 'Sincan']\n"
     ]
    },
    {
     "data": {
      "text/html": [
       "<div>\n",
       "<style scoped>\n",
       "    .dataframe tbody tr th:only-of-type {\n",
       "        vertical-align: middle;\n",
       "    }\n",
       "\n",
       "    .dataframe tbody tr th {\n",
       "        vertical-align: top;\n",
       "    }\n",
       "\n",
       "    .dataframe thead th {\n",
       "        text-align: right;\n",
       "    }\n",
       "</style>\n",
       "<table border=\"1\" class=\"dataframe\">\n",
       "  <thead>\n",
       "    <tr style=\"text-align: right;\">\n",
       "      <th></th>\n",
       "      <th>Sütun1</th>\n",
       "      <th>id</th>\n",
       "      <th>fiyat</th>\n",
       "      <th>oda_salon_sayisi</th>\n",
       "      <th>net_m2</th>\n",
       "      <th>bina_yasi</th>\n",
       "      <th>isinma_tipi</th>\n",
       "      <th>krediye_uygunluk</th>\n",
       "      <th>bulundugu_kat</th>\n",
       "      <th>banyo_sayisi</th>\n",
       "      <th>ilce</th>\n",
       "      <th>nüfus</th>\n",
       "      <th>Egitim</th>\n",
       "      <th>okuma_yazma_bilmeyen</th>\n",
       "      <th>Kredi_Uygunlugu</th>\n",
       "    </tr>\n",
       "  </thead>\n",
       "  <tbody>\n",
       "    <tr>\n",
       "      <th>0</th>\n",
       "      <td>1276</td>\n",
       "      <td>1276.0</td>\n",
       "      <td>750.0</td>\n",
       "      <td>4.0</td>\n",
       "      <td>115.0</td>\n",
       "      <td>0.0</td>\n",
       "      <td>Kombi</td>\n",
       "      <td>Uygun</td>\n",
       "      <td>1. Kat</td>\n",
       "      <td>1.0</td>\n",
       "      <td>Keçiören</td>\n",
       "      <td>938565.0</td>\n",
       "      <td>Lise</td>\n",
       "      <td>1.43</td>\n",
       "      <td>1.0</td>\n",
       "    </tr>\n",
       "    <tr>\n",
       "      <th>1</th>\n",
       "      <td>1104</td>\n",
       "      <td>1104.0</td>\n",
       "      <td>685.0</td>\n",
       "      <td>4.0</td>\n",
       "      <td>110.0</td>\n",
       "      <td>3.0</td>\n",
       "      <td>Kombi</td>\n",
       "      <td>Uygun</td>\n",
       "      <td>Giris Kati</td>\n",
       "      <td>1.0</td>\n",
       "      <td>Keçiören</td>\n",
       "      <td>938565.0</td>\n",
       "      <td>Lise</td>\n",
       "      <td>1.43</td>\n",
       "      <td>1.0</td>\n",
       "    </tr>\n",
       "    <tr>\n",
       "      <th>2</th>\n",
       "      <td>397</td>\n",
       "      <td>397.0</td>\n",
       "      <td>1080.0</td>\n",
       "      <td>23.0</td>\n",
       "      <td>165.0</td>\n",
       "      <td>0.0</td>\n",
       "      <td>Merkezi(PayÖlçer)</td>\n",
       "      <td>Uygun</td>\n",
       "      <td>4. Kat</td>\n",
       "      <td>2.0</td>\n",
       "      <td>Keçiören</td>\n",
       "      <td>938565.0</td>\n",
       "      <td>Lise</td>\n",
       "      <td>1.43</td>\n",
       "      <td>1.0</td>\n",
       "    </tr>\n",
       "    <tr>\n",
       "      <th>3</th>\n",
       "      <td>2188</td>\n",
       "      <td>2188.0</td>\n",
       "      <td>358.0</td>\n",
       "      <td>4.0</td>\n",
       "      <td>-48.0</td>\n",
       "      <td>24.0</td>\n",
       "      <td>Kombi</td>\n",
       "      <td>Uygun</td>\n",
       "      <td>2. Kat</td>\n",
       "      <td>1.0</td>\n",
       "      <td>Keçiören</td>\n",
       "      <td>938565.0</td>\n",
       "      <td>Lise</td>\n",
       "      <td>1.43</td>\n",
       "      <td>1.0</td>\n",
       "    </tr>\n",
       "    <tr>\n",
       "      <th>4</th>\n",
       "      <td>16</td>\n",
       "      <td>16.0</td>\n",
       "      <td>790.0</td>\n",
       "      <td>3.0</td>\n",
       "      <td>100.0</td>\n",
       "      <td>0.0</td>\n",
       "      <td>Merkezi(PayÖlçer)</td>\n",
       "      <td>Uygun</td>\n",
       "      <td>Bahçe Katý</td>\n",
       "      <td>2.0</td>\n",
       "      <td>Keçiören</td>\n",
       "      <td>938565.0</td>\n",
       "      <td>Lise</td>\n",
       "      <td>1.43</td>\n",
       "      <td>1.0</td>\n",
       "    </tr>\n",
       "    <tr>\n",
       "      <th>5</th>\n",
       "      <td>3728</td>\n",
       "      <td>3728.0</td>\n",
       "      <td>850.0</td>\n",
       "      <td>4.0</td>\n",
       "      <td>120.0</td>\n",
       "      <td>5.0</td>\n",
       "      <td>Kombi</td>\n",
       "      <td>Uygun</td>\n",
       "      <td>Giris Kati</td>\n",
       "      <td>1.0</td>\n",
       "      <td>Sincan</td>\n",
       "      <td>549108.0</td>\n",
       "      <td>Lise</td>\n",
       "      <td>1.44</td>\n",
       "      <td>1.0</td>\n",
       "    </tr>\n",
       "    <tr>\n",
       "      <th>6</th>\n",
       "      <td>3065</td>\n",
       "      <td>3065.0</td>\n",
       "      <td>695.0</td>\n",
       "      <td>5.0</td>\n",
       "      <td>138.0</td>\n",
       "      <td>10.0</td>\n",
       "      <td>Kombi</td>\n",
       "      <td>Uygun</td>\n",
       "      <td>2. Kat</td>\n",
       "      <td>2.0</td>\n",
       "      <td>Keçiören</td>\n",
       "      <td>938565.0</td>\n",
       "      <td>Lise</td>\n",
       "      <td>1.43</td>\n",
       "      <td>1.0</td>\n",
       "    </tr>\n",
       "    <tr>\n",
       "      <th>7</th>\n",
       "      <td>299</td>\n",
       "      <td>299.0</td>\n",
       "      <td>449.0</td>\n",
       "      <td>4.0</td>\n",
       "      <td>110.0</td>\n",
       "      <td>25.0</td>\n",
       "      <td>Kombi</td>\n",
       "      <td>Uygun</td>\n",
       "      <td>2. Kat</td>\n",
       "      <td>1.0</td>\n",
       "      <td>Keçiören</td>\n",
       "      <td>938565.0</td>\n",
       "      <td>Lise</td>\n",
       "      <td>1.43</td>\n",
       "      <td>1.0</td>\n",
       "    </tr>\n",
       "    <tr>\n",
       "      <th>8</th>\n",
       "      <td>2188</td>\n",
       "      <td>2188.0</td>\n",
       "      <td>358.0</td>\n",
       "      <td>4.0</td>\n",
       "      <td>-48.0</td>\n",
       "      <td>24.0</td>\n",
       "      <td>Kombi</td>\n",
       "      <td>Uygun</td>\n",
       "      <td>2. Kat</td>\n",
       "      <td>1.0</td>\n",
       "      <td>Keçiören</td>\n",
       "      <td>938565.0</td>\n",
       "      <td>Lise</td>\n",
       "      <td>1.43</td>\n",
       "      <td>1.0</td>\n",
       "    </tr>\n",
       "    <tr>\n",
       "      <th>9</th>\n",
       "      <td>1817</td>\n",
       "      <td>1817.0</td>\n",
       "      <td>525.0</td>\n",
       "      <td>3.0</td>\n",
       "      <td>75.0</td>\n",
       "      <td>50.0</td>\n",
       "      <td>Kombi</td>\n",
       "      <td>Uygun</td>\n",
       "      <td>2. Kat</td>\n",
       "      <td>1.0</td>\n",
       "      <td>Keçiören</td>\n",
       "      <td>938565.0</td>\n",
       "      <td>Lise</td>\n",
       "      <td>1.43</td>\n",
       "      <td>1.0</td>\n",
       "    </tr>\n",
       "    <tr>\n",
       "      <th>10</th>\n",
       "      <td>1081</td>\n",
       "      <td>1081.0</td>\n",
       "      <td>535.0</td>\n",
       "      <td>3.0</td>\n",
       "      <td>90.0</td>\n",
       "      <td>35.0</td>\n",
       "      <td>Merkezi(PayÖlçer)</td>\n",
       "      <td>Uygun</td>\n",
       "      <td>3. Kat</td>\n",
       "      <td>1.0</td>\n",
       "      <td>Keçiören</td>\n",
       "      <td>938565.0</td>\n",
       "      <td>Lise</td>\n",
       "      <td>1.43</td>\n",
       "      <td>1.0</td>\n",
       "    </tr>\n",
       "    <tr>\n",
       "      <th>11</th>\n",
       "      <td>73</td>\n",
       "      <td>73.0</td>\n",
       "      <td>410.0</td>\n",
       "      <td>4.0</td>\n",
       "      <td>115.0</td>\n",
       "      <td>11.0</td>\n",
       "      <td>Kombi</td>\n",
       "      <td>Uygun</td>\n",
       "      <td>1. Kat</td>\n",
       "      <td>2.0</td>\n",
       "      <td>Keçiören</td>\n",
       "      <td>938565.0</td>\n",
       "      <td>Lise</td>\n",
       "      <td>1.43</td>\n",
       "      <td>1.0</td>\n",
       "    </tr>\n",
       "  </tbody>\n",
       "</table>\n",
       "</div>"
      ],
      "text/plain": [
       "    Sütun1      id   fiyat  oda_salon_sayisi  net_m2  bina_yasi  \\\n",
       "0     1276  1276.0   750.0               4.0   115.0        0.0   \n",
       "1     1104  1104.0   685.0               4.0   110.0        3.0   \n",
       "2      397   397.0  1080.0              23.0   165.0        0.0   \n",
       "3     2188  2188.0   358.0               4.0   -48.0       24.0   \n",
       "4       16    16.0   790.0               3.0   100.0        0.0   \n",
       "5     3728  3728.0   850.0               4.0   120.0        5.0   \n",
       "6     3065  3065.0   695.0               5.0   138.0       10.0   \n",
       "7      299   299.0   449.0               4.0   110.0       25.0   \n",
       "8     2188  2188.0   358.0               4.0   -48.0       24.0   \n",
       "9     1817  1817.0   525.0               3.0    75.0       50.0   \n",
       "10    1081  1081.0   535.0               3.0    90.0       35.0   \n",
       "11      73    73.0   410.0               4.0   115.0       11.0   \n",
       "\n",
       "          isinma_tipi krediye_uygunluk bulundugu_kat  banyo_sayisi      ilce  \\\n",
       "0               Kombi            Uygun        1. Kat           1.0  Keçiören   \n",
       "1               Kombi            Uygun    Giris Kati           1.0  Keçiören   \n",
       "2   Merkezi(PayÖlçer)            Uygun        4. Kat           2.0  Keçiören   \n",
       "3               Kombi            Uygun        2. Kat           1.0  Keçiören   \n",
       "4   Merkezi(PayÖlçer)            Uygun    Bahçe Katý           2.0  Keçiören   \n",
       "5               Kombi            Uygun    Giris Kati           1.0    Sincan   \n",
       "6               Kombi            Uygun        2. Kat           2.0  Keçiören   \n",
       "7               Kombi            Uygun        2. Kat           1.0  Keçiören   \n",
       "8               Kombi            Uygun        2. Kat           1.0  Keçiören   \n",
       "9               Kombi            Uygun        2. Kat           1.0  Keçiören   \n",
       "10  Merkezi(PayÖlçer)            Uygun        3. Kat           1.0  Keçiören   \n",
       "11              Kombi            Uygun        1. Kat           2.0  Keçiören   \n",
       "\n",
       "       nüfus Egitim  okuma_yazma_bilmeyen  Kredi_Uygunlugu  \n",
       "0   938565.0   Lise                  1.43              1.0  \n",
       "1   938565.0   Lise                  1.43              1.0  \n",
       "2   938565.0   Lise                  1.43              1.0  \n",
       "3   938565.0   Lise                  1.43              1.0  \n",
       "4   938565.0   Lise                  1.43              1.0  \n",
       "5   549108.0   Lise                  1.44              1.0  \n",
       "6   938565.0   Lise                  1.43              1.0  \n",
       "7   938565.0   Lise                  1.43              1.0  \n",
       "8   938565.0   Lise                  1.43              1.0  \n",
       "9   938565.0   Lise                  1.43              1.0  \n",
       "10  938565.0   Lise                  1.43              1.0  \n",
       "11  938565.0   Lise                  1.43              1.0  "
      ]
     },
     "execution_count": 53,
     "metadata": {},
     "output_type": "execute_result"
    }
   ],
   "source": [
    "print( '5000`den asagida, Lisans duzeyindeki evler:', pd.unique( subdata['ilce'] )  )\n",
    "subdata"
   ]
  },
  {
   "cell_type": "code",
   "execution_count": 54,
   "metadata": {},
   "outputs": [
    {
     "data": {
      "image/png": "[encoded data removed]",
      "text/plain": [
       "<Figure size 748.8x288 with 1 Axes>"
      ]
     },
     "metadata": {
      "needs_background": "light"
     },
     "output_type": "display_data"
    }
   ],
   "source": [
    "plot_show2 = 1\n",
    "if plot_show2 == 1: \n",
    "    sns.catplot(x=\"ilce\", y=\"fiyat\",\n",
    "\n",
    "                    hue=\"ilce\",# hue_order = No_Order,\n",
    "                    #col=\"bulundugu_kat\",\n",
    "\n",
    "                    data=subdata, kind=\"bar\",\n",
    "\n",
    "                    height=4, aspect=2.6,saturation=.5 ) "
   ]
  },
  {
   "cell_type": "markdown",
   "metadata": {},
   "source": [
    "### Cevap 4\n",
    "Operasyonlar: \n",
    "\n",
    "    * Orijinal veri, yeni bir deney degiskenine kopyalandi. \n",
    "\n",
    "    * Veri seti, egitim seviyesi ve fiyat parametrelerine gore filtrelendi. \n",
    "\n",
    "    * Veriler, ilce ve fiyat bazinda catplot yardimiyla grafiklestirildi. \n",
    "\n",
    "Aciklama:\n",
    "\n",
    "    * Kisi, Kecioren & Sincan`da oturmalidir. "
   ]
  },
  {
   "cell_type": "markdown",
   "metadata": {},
   "source": [
    "---\n",
    "### SORU 5: \n",
    "İlçelere göre ısınma türlerinden hangisinin daha uygun fiyata sahip olduğunu bulun. Grafik çıkartarak, çıkarımlarınızı yazılı olarak ifade edin ve grafiğinizi oluştururken yaptığınız operasyonları açıklayın."
   ]
  },
  {
   "cell_type": "code",
   "execution_count": 55,
   "metadata": {},
   "outputs": [
    {
     "data": {
      "text/html": [
       "<div>\n",
       "<style scoped>\n",
       "    .dataframe tbody tr th:only-of-type {\n",
       "        vertical-align: middle;\n",
       "    }\n",
       "\n",
       "    .dataframe tbody tr th {\n",
       "        vertical-align: top;\n",
       "    }\n",
       "\n",
       "    .dataframe thead th {\n",
       "        text-align: right;\n",
       "    }\n",
       "</style>\n",
       "<table border=\"1\" class=\"dataframe\">\n",
       "  <thead>\n",
       "    <tr style=\"text-align: right;\">\n",
       "      <th></th>\n",
       "      <th>Sütun1</th>\n",
       "      <th>id</th>\n",
       "      <th>fiyat</th>\n",
       "      <th>oda_salon_sayisi</th>\n",
       "      <th>net_m2</th>\n",
       "      <th>bina_yasi</th>\n",
       "      <th>isinma_tipi</th>\n",
       "      <th>krediye_uygunluk</th>\n",
       "      <th>bulundugu_kat</th>\n",
       "      <th>banyo_sayisi</th>\n",
       "      <th>ilce</th>\n",
       "      <th>nüfus</th>\n",
       "      <th>Egitim</th>\n",
       "      <th>okuma_yazma_bilmeyen</th>\n",
       "      <th>Kredi_Uygunlugu</th>\n",
       "    </tr>\n",
       "  </thead>\n",
       "  <tbody>\n",
       "    <tr>\n",
       "      <th>0</th>\n",
       "      <td>2612</td>\n",
       "      <td>2612.0</td>\n",
       "      <td>275000.0</td>\n",
       "      <td>4.0</td>\n",
       "      <td>120.0</td>\n",
       "      <td>12.0</td>\n",
       "      <td>Kombi</td>\n",
       "      <td>Uygun</td>\n",
       "      <td>1. Kat</td>\n",
       "      <td>1.0</td>\n",
       "      <td>Çankaya</td>\n",
       "      <td>925828.0</td>\n",
       "      <td>Lisans</td>\n",
       "      <td>0.70</td>\n",
       "      <td>1.0</td>\n",
       "    </tr>\n",
       "    <tr>\n",
       "      <th>1</th>\n",
       "      <td>4819</td>\n",
       "      <td>4819.0</td>\n",
       "      <td>700000.0</td>\n",
       "      <td>3.0</td>\n",
       "      <td>88.0</td>\n",
       "      <td>0.0</td>\n",
       "      <td>Merkezi(PayÖlçer)</td>\n",
       "      <td>Uygun</td>\n",
       "      <td>1. Kat</td>\n",
       "      <td>1.0</td>\n",
       "      <td>Çankaya</td>\n",
       "      <td>925828.0</td>\n",
       "      <td>Lisans</td>\n",
       "      <td>0.70</td>\n",
       "      <td>1.0</td>\n",
       "    </tr>\n",
       "    <tr>\n",
       "      <th>2</th>\n",
       "      <td>149</td>\n",
       "      <td>149.0</td>\n",
       "      <td>980000.0</td>\n",
       "      <td>5.0</td>\n",
       "      <td>230.0</td>\n",
       "      <td>30.0</td>\n",
       "      <td>Kombi</td>\n",
       "      <td>Uygun</td>\n",
       "      <td>3. Kat</td>\n",
       "      <td>2.0</td>\n",
       "      <td>Çankaya</td>\n",
       "      <td>925828.0</td>\n",
       "      <td>Lisans</td>\n",
       "      <td>0.70</td>\n",
       "      <td>1.0</td>\n",
       "    </tr>\n",
       "    <tr>\n",
       "      <th>3</th>\n",
       "      <td>3628</td>\n",
       "      <td>3628.0</td>\n",
       "      <td>385000.0</td>\n",
       "      <td>4.0</td>\n",
       "      <td>120.0</td>\n",
       "      <td>22.0</td>\n",
       "      <td>Kombi</td>\n",
       "      <td>Uygun</td>\n",
       "      <td>2. Kat</td>\n",
       "      <td>1.0</td>\n",
       "      <td>Keçiören</td>\n",
       "      <td>938565.0</td>\n",
       "      <td>Lise</td>\n",
       "      <td>1.43</td>\n",
       "      <td>1.0</td>\n",
       "    </tr>\n",
       "    <tr>\n",
       "      <th>4</th>\n",
       "      <td>3936</td>\n",
       "      <td>3936.0</td>\n",
       "      <td>700000.0</td>\n",
       "      <td>5.0</td>\n",
       "      <td>150.0</td>\n",
       "      <td>0.0</td>\n",
       "      <td>Kombi</td>\n",
       "      <td>Uygun</td>\n",
       "      <td>Ara Kat</td>\n",
       "      <td>2.0</td>\n",
       "      <td>Çankaya</td>\n",
       "      <td>925828.0</td>\n",
       "      <td>Lisans</td>\n",
       "      <td>0.70</td>\n",
       "      <td>1.0</td>\n",
       "    </tr>\n",
       "  </tbody>\n",
       "</table>\n",
       "</div>"
      ],
      "text/plain": [
       "   Sütun1      id     fiyat  oda_salon_sayisi  net_m2  bina_yasi  \\\n",
       "0    2612  2612.0  275000.0               4.0   120.0       12.0   \n",
       "1    4819  4819.0  700000.0               3.0    88.0        0.0   \n",
       "2     149   149.0  980000.0               5.0   230.0       30.0   \n",
       "3    3628  3628.0  385000.0               4.0   120.0       22.0   \n",
       "4    3936  3936.0  700000.0               5.0   150.0        0.0   \n",
       "\n",
       "         isinma_tipi krediye_uygunluk bulundugu_kat  banyo_sayisi      ilce  \\\n",
       "0              Kombi            Uygun        1. Kat           1.0   Çankaya   \n",
       "1  Merkezi(PayÖlçer)            Uygun        1. Kat           1.0   Çankaya   \n",
       "2              Kombi            Uygun        3. Kat           2.0   Çankaya   \n",
       "3              Kombi            Uygun        2. Kat           1.0  Keçiören   \n",
       "4              Kombi            Uygun       Ara Kat           2.0   Çankaya   \n",
       "\n",
       "      nüfus  Egitim  okuma_yazma_bilmeyen  Kredi_Uygunlugu  \n",
       "0  925828.0  Lisans                  0.70              1.0  \n",
       "1  925828.0  Lisans                  0.70              1.0  \n",
       "2  925828.0  Lisans                  0.70              1.0  \n",
       "3  938565.0    Lise                  1.43              1.0  \n",
       "4  925828.0  Lisans                  0.70              1.0  "
      ]
     },
     "execution_count": 55,
     "metadata": {},
     "output_type": "execute_result"
    }
   ],
   "source": [
    "subdata = data.copy()\n",
    "subdata.head() "
   ]
  },
  {
   "cell_type": "code",
   "execution_count": 56,
   "metadata": {},
   "outputs": [
    {
     "data": {
      "text/plain": [
       "<seaborn.axisgrid.FacetGrid at 0x15b24edefe0>"
      ]
     },
     "execution_count": 56,
     "metadata": {},
     "output_type": "execute_result"
    },
    {
     "data": {
      "image/png": "[encoded data removed]",
      "text/plain": [
       "<Figure size 874.675x288 with 1 Axes>"
      ]
     },
     "metadata": {
      "needs_background": "light"
     },
     "output_type": "display_data"
    }
   ],
   "source": [
    "Isinma_Turleri = list( pd.unique( subdata['isinma_tipi'] )) \n",
    "\n",
    "sns.catplot(x=\"ilce\", y=\"fiyat\",\n",
    "\n",
    "                hue=\"isinma_tipi\", hue_order = Isinma_Turleri,\n",
    "                #col=\"isinma_tipi\",\n",
    "\n",
    "                data=subdata, kind=\"bar\",\n",
    "\n",
    "                height=4, aspect=2.6,saturation=.5 ) "
   ]
  },
  {
   "cell_type": "markdown",
   "metadata": {},
   "source": [
    "### Cevap 5:\n",
    "Operasyolar: \n",
    "\n",
    "    * Orijinal veri, yeni bir deney degiskenine kopyalandi. \n",
    "\n",
    "    * Catplot icin mevcut isinma tipleri siralandi ve bir baska degiskene aktarildi.\n",
    "\n",
    "Aciklama:\n",
    "    \n",
    "    - Neredeyse her ilcenin, isinma tipine gore fiyatlandirmasinin farkli oldugunu gormekteyiz. \n",
    "\n",
    "    - Ilcelerin her birisinde, her tip isinma tipine dair veri bulunmamaktadir. \n",
    "\n",
    "    En uygun isinma tipleri:\n",
    "\n",
    "    - Cankaya: Kombi\n",
    "    - Mamak: Merkezi\n",
    "    - Sincan: Kombi\n",
    "    - Kecioren: Klima\n",
    "\n",
    "Tahmin:\n",
    "\n",
    "    Keciorendeki Klima kullaniminin fiyatlandirmasi, digerlerinden daha dusuk/uygun oldugundan, eger veri setimize klimaya dair veri eklemek adina calisma yaparsak, diger illerde de en uygun isinma tipinin Klima olabilecegini gorebiliriz. \n",
    "\n",
    "    Bunun yaninda, Mamak ve Sincan`daki verileri, grafikte birbirlerine cok yakin oldugundan, bu iki ilce ozelinde Tukey HSD testleri uygulanildi. Cikan sonuclar gosteriyor ki Sincan`daki fark istatistiki olarak onemli olsa da, Mamak`ta Merkezi isitmanin istatistiki olarak daha iyi oldugunu soylemek mumkun degil. "
   ]
  },
  {
   "cell_type": "code",
   "execution_count": 57,
   "metadata": {},
   "outputs": [],
   "source": [
    "from statsmodels.stats.multicomp import pairwise_tukeyhsd \n",
    "\n",
    "Mamak = subdata[ subdata['ilce'] =='Mamak']\n",
    "Sincan = subdata[ subdata['ilce'] =='Sincan']"
   ]
  },
  {
   "cell_type": "code",
   "execution_count": 58,
   "metadata": {},
   "outputs": [
    {
     "name": "stdout",
     "output_type": "stream",
     "text": [
      "      Multiple Comparison of Means - Tukey HSD, FWER=0.05       \n",
      "================================================================\n",
      "group1  group2  meandiff  p-adj     lower        upper    reject\n",
      "----------------------------------------------------------------\n",
      " Kombi Merkezi 44318.1818 0.7036 -189028.2391 277664.6027  False\n",
      "----------------------------------------------------------------\n"
     ]
    }
   ],
   "source": [
    "tukey = pairwise_tukeyhsd(endog=Mamak['fiyat'],\n",
    "                          groups=Mamak['isinma_tipi'],\n",
    "                          alpha=0.05) \n",
    "print(tukey)                          "
   ]
  },
  {
   "cell_type": "code",
   "execution_count": 59,
   "metadata": {},
   "outputs": [
    {
     "name": "stdout",
     "output_type": "stream",
     "text": [
      "                Multiple Comparison of Means - Tukey HSD, FWER=0.05                 \n",
      "====================================================================================\n",
      "    group1           group2        meandiff   p-adj     lower        upper    reject\n",
      "------------------------------------------------------------------------------------\n",
      "Kat Kaloriferi             Kombi -174251.0121 0.4124 -465171.2778 116669.2537  False\n",
      "Kat Kaloriferi           Merkezi    -141500.0 0.6216 -443098.9605 160098.9605  False\n",
      "Kat Kaloriferi Merkezi(PayÖlçer)  -28947.9167 0.9942 -321085.7132 263189.8799  False\n",
      "         Kombi           Merkezi   32751.0121 0.7299  -48902.0952 114404.1193  False\n",
      "         Kombi Merkezi(PayÖlçer)  145303.0954    0.0   112902.646 177703.5448   True\n",
      "       Merkezi Merkezi(PayÖlçer)  112552.0833 0.0043   26661.9148 198442.2519   True\n",
      "------------------------------------------------------------------------------------\n"
     ]
    }
   ],
   "source": [
    "tukey = pairwise_tukeyhsd(endog=Sincan['fiyat'],\n",
    "                          groups=Sincan['isinma_tipi'],\n",
    "                          alpha=0.05) \n",
    "print(tukey)                          "
   ]
  },
  {
   "cell_type": "markdown",
   "metadata": {},
   "source": [
    "References:\n",
    "\n",
    "* https://seaborn.pydata.org/generated/seaborn.catplot.html\n",
    "\n",
    "* https://www.statsmodels.org/0.8.0/generated/statsmodels.stats.multicomp.pairwise_tukeyhsd.html\n",
    "\n",
    "* https://www.statology.org/tukey-test-python/\n",
    "\n",
    "* https://dev.to/thalesbruno/subplotting-with-matplotlib-and-seaborn-5ei8"
   ]
  }
 ],
 "metadata": {
  "interpreter": {
   "hash": "107d7b120a5b68773a87d4067e673630b35702e55ebab3138143d08b1c4d7cbc"
  },
  "kernelspec": {
   "display_name": "Python 3.10.2 64-bit",
   "language": "python",
   "name": "python3"
  },
  "language_info": {
   "codemirror_mode": {
    "name": "ipython",
    "version": 3
   },
   "file_extension": ".py",
   "mimetype": "text/x-python",
   "name": "python",
   "nbconvert_exporter": "python",
   "pygments_lexer": "ipython3",
   "version": "3.10.2"
  },
  "orig_nbformat": 4
 },
 "nbformat": 4,
 "nbformat_minor": 2
}
